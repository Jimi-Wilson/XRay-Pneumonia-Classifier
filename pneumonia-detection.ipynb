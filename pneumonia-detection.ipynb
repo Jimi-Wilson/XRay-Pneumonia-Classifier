{
  "nbformat": 4,
  "nbformat_minor": 0,
  "metadata": {
    "colab": {
      "provenance": [],
      "gpuType": "T4"
    },
    "kernelspec": {
      "name": "python3",
      "display_name": "Python 3"
    },
    "language_info": {
      "name": "python"
    },
    "accelerator": "GPU"
  },
  "cells": [
    {
      "metadata": {
        "id": "Pf0ZDcuEJV0b"
      },
      "cell_type": "markdown",
      "source": [
        "# Pneumonia Classification\n",
        "\n",
        "## Project Overview\n",
        "\n",
        "This project documents the process of creating a machine learning model to classify pneumonia.\n",
        "\n",
        "Pneumonia has a high mortality rate, and rapid, accurate diagnosis is critical for timely treatment. This project aims to create a reliable automated tool to assist medical professionals.\n",
        "\n",
        "\n",
        "## Content\n",
        "1. Data Preprocessing\n",
        "2. Model Training\n",
        "3. Model Evaluation\n",
        "\n",
        "\n",
        "**Dataset:** https://www.kaggle.com/datasets/pcbreviglieri/pneumonia-xray-images"
      ]
    },
    {
      "cell_type": "code",
      "execution_count": 1,
      "metadata": {
        "colab": {
          "base_uri": "https://localhost:8080/"
        },
        "id": "xWaOGPepyq6n",
        "outputId": "b7f07fbf-a2e5-4965-871e-3e389d27da0d"
      },
      "outputs": [
        {
          "output_type": "stream",
          "name": "stdout",
          "text": [
            "Downloading from https://www.kaggle.com/api/v1/datasets/download/pcbreviglieri/pneumonia-xray-images?dataset_version_number=1...\n"
          ]
        },
        {
          "output_type": "stream",
          "name": "stderr",
          "text": [
            "100%|██████████| 1.14G/1.14G [00:54<00:00, 22.6MB/s]"
          ]
        },
        {
          "output_type": "stream",
          "name": "stdout",
          "text": [
            "Extracting files...\n"
          ]
        },
        {
          "output_type": "stream",
          "name": "stderr",
          "text": [
            "\n"
          ]
        },
        {
          "output_type": "stream",
          "name": "stdout",
          "text": [
            "Path to dataset files: /root/.cache/kagglehub/datasets/pcbreviglieri/pneumonia-xray-images/versions/1\n"
          ]
        }
      ],
      "source": [
        "import kagglehub\n",
        "\n",
        "path = kagglehub.dataset_download(\"pcbreviglieri/pneumonia-xray-images\")\n",
        "\n",
        "print(\"Path to dataset files:\", path)"
      ]
    },
    {
      "cell_type": "code",
      "execution_count": 2,
      "metadata": {
        "id": "EdCFKFkJr1Qr"
      },
      "outputs": [],
      "source": [
        "%load_ext tensorboard"
      ]
    },
    {
      "cell_type": "code",
      "source": [
        "import tensorflow as tf\n",
        "import numpy as np\n",
        "import random\n",
        "import os\n",
        "\n",
        "seed_value = 24\n",
        "os.environ['PYTHONHASHSEED'] = str(seed_value)\n",
        "random.seed(seed_value)\n",
        "np.random.seed(seed_value)\n",
        "tf.random.set_seed(seed_value)\n",
        "\n",
        "BATCH_SIZE = 32\n",
        "IMAGE_SIZE = (150, 150)\n",
        "train_dir = f'{path}/train'\n",
        "valid_dir = f'{path}/val'\n",
        "test_dir = f'{path}/test'\n"
      ],
      "metadata": {
        "id": "j5M3pUFuyv06"
      },
      "execution_count": 3,
      "outputs": []
    },
    {
      "metadata": {
        "id": "OQF86pXwJV0f"
      },
      "cell_type": "markdown",
      "source": [
        "# Data Preprocessing\n",
        "\n",
        "### Data Augmentation\n",
        "To prevent overfitting and build a model that is robust to the real world variations in X-ray imaging, the training images were past through a data augmentation pipeline.\n",
        "* Horizontal Flips: To ensure the model is not biased towards a specific side (left or right lung).\n",
        "* Rotations (up to 40 degrees): To account for slight variations in patient positioning during the X-ray procedure.\n",
        "* Zooms and Translations (up to 20%): To handle differences in patient distance from the scanner and centering within the frame.\n",
        "* Contrast Adjustments (up to 20%): To make the model resilient to variations in X-ray exposure levels.\n",
        "\n",
        "\n",
        "\n",
        "### Class Imbalance\n",
        "Initial analysis and training runs revealed a significant class imbalance, with pneumonia cases outnumbering normal cases by nearly 3-to-1. This was addressed by calculating and applying `class_weight` during model training.\n",
        "\n",
        "### Training and Evaluation\n",
        "A robust training and evaluation framework was created:\n",
        "* **Callbacks:** A comprehensive suite of callbacks was used for every training run:\n",
        "    * `ModelCheckpoint`: To save only the best version of the model based on validation loss.\n",
        "    * `EarlyStopping`: To prevent wasting time and energy by stopping training when performance plateaus.\n",
        "    * `ReduceLROnPlateau`: To automatically stabilize training by reducing the learning rate.\n",
        "    * `TensorBoard`: For detailed logging and visualization of the training process."
      ]
    },
    {
      "cell_type": "code",
      "source": [
        "train_data = tf.keras.utils.image_dataset_from_directory(\n",
        "    train_dir,\n",
        "    labels=\"inferred\",\n",
        "    label_mode=\"binary\",\n",
        "    image_size=IMAGE_SIZE,\n",
        "    interpolation=\"nearest\",\n",
        "    batch_size=BATCH_SIZE,\n",
        "    shuffle=True\n",
        ")\n",
        "\n",
        "valid_data = tf.keras.utils.image_dataset_from_directory(\n",
        "    valid_dir,\n",
        "    labels=\"inferred\",\n",
        "    label_mode=\"binary\",\n",
        "    image_size=IMAGE_SIZE,\n",
        "    interpolation=\"nearest\",\n",
        "    batch_size=BATCH_SIZE,\n",
        "    shuffle=False\n",
        ")\n",
        "\n",
        "test_data = tf.keras.utils.image_dataset_from_directory(\n",
        "    test_dir,\n",
        "    labels=\"inferred\",\n",
        "    label_mode=\"binary\",\n",
        "    image_size=IMAGE_SIZE,\n",
        "    interpolation=\"nearest\",\n",
        "    batch_size=BATCH_SIZE,\n",
        "    shuffle=False\n",
        ")"
      ],
      "metadata": {
        "colab": {
          "base_uri": "https://localhost:8080/"
        },
        "id": "zE7bqM0P0BHF",
        "outputId": "1c208941-87ed-4efa-a6db-bfd46ff1864d",
        "jupyter": {
          "is_executing": true
        }
      },
      "outputs": [
        {
          "output_type": "stream",
          "name": "stdout",
          "text": [
            "Found 4192 files belonging to 2 classes.\n",
            "Found 1040 files belonging to 2 classes.\n",
            "Found 624 files belonging to 2 classes.\n"
          ]
        }
      ],
      "execution_count": 4
    },
    {
      "cell_type": "code",
      "source": [
        "data_augmentation = tf.keras.Sequential([\n",
        "    tf.keras.layers.RandomFlip(\"horizontal\"),\n",
        "    tf.keras.layers.RandomRotation(factor=(-40/360, 40/360)),\n",
        "    tf.keras.layers.RandomZoom(height_factor=0.2, width_factor=0.2),\n",
        "    tf.keras.layers.RandomTranslation(height_factor=0.2, width_factor=0.2),\n",
        "    tf.keras.layers.RandomContrast(factor=0.2),\n",
        "])"
      ],
      "metadata": {
        "id": "eLx17BGp08Jy"
      },
      "execution_count": 5,
      "outputs": []
    },
    {
      "cell_type": "code",
      "source": [
        "train_data = train_data.map(\n",
        "    lambda x, y: (data_augmentation(x, training=True), y),\n",
        "    num_parallel_calls=tf.data.AUTOTUNE\n",
        ")"
      ],
      "metadata": {
        "id": "uYTlphjr1MGQ"
      },
      "execution_count": 6,
      "outputs": []
    },
    {
      "cell_type": "code",
      "source": [
        "AUTOTUNE = tf.data.AUTOTUNE\n",
        "\n",
        "def configure_dataset(ds):\n",
        "    ds = ds.map(lambda x, y: (tf.cast(x, tf.float32) / 255.0, y), num_parallel_calls=AUTOTUNE)\n",
        "    ds = ds.cache()\n",
        "    ds = ds.prefetch(buffer_size=AUTOTUNE)\n",
        "    return ds\n",
        "\n",
        "train_data = configure_dataset(train_data)\n",
        "valid_data = configure_dataset(valid_data)\n",
        "test_data = configure_dataset(test_data)"
      ],
      "metadata": {
        "id": "4WEaHsyZ1aho"
      },
      "execution_count": 7,
      "outputs": []
    },
    {
      "cell_type": "code",
      "source": [
        "from tensorflow.keras.callbacks import EarlyStopping, ModelCheckpoint, TensorBoard, ReduceLROnPlateau\n",
        "import datetime\n",
        "\n",
        "def create_callbacks(model_name):\n",
        "    log_dir = f\"logs/fit/{model_name}_{datetime.datetime.now().strftime('%Y%m%d-%H%M%S')}\"\n",
        "\n",
        "    callbacks = [\n",
        "        EarlyStopping(monitor='val_loss', patience=10),\n",
        "        ModelCheckpoint(\n",
        "            filepath=f'best_{model_name}.keras',\n",
        "            monitor='val_loss',\n",
        "            save_best_only=True,\n",
        "            verbose=1\n",
        "        ),\n",
        "        ReduceLROnPlateau(\n",
        "            monitor='val_loss',\n",
        "            factor=0.2,\n",
        "            patience=3,\n",
        "            min_lr=0.00001\n",
        "        ),\n",
        "        TensorBoard(log_dir=log_dir),\n",
        "    ]\n",
        "    return callbacks"
      ],
      "metadata": {
        "id": "W2hd_E8PHxnv"
      },
      "execution_count": 8,
      "outputs": []
    },
    {
      "cell_type": "code",
      "source": [
        "from tensorflow.keras.models import load_model\n",
        "\n",
        "def evaluate_best_model(model_name):\n",
        "  model = load_model(f\"best_{model_name}.keras\")\n",
        "  test_results = model.evaluate(test_data)\n",
        "  print(\"Test Set Evaluation:\")\n",
        "  print(f\"Loss: {test_results[0]}\")\n",
        "  print(f\"Accuracy: {test_results[1]}\")\n",
        "  print(f\"Precision: {test_results[2]}\")\n",
        "  print(f\"Recall: {test_results[3]}\")\n",
        "  print(f\"F1-Score: {test_results[4]}\")"
      ],
      "metadata": {
        "id": "w70-VP4uIqv4"
      },
      "execution_count": 9,
      "outputs": []
    },
    {
      "cell_type": "code",
      "source": [
        "total_samples = 4192\n",
        "num_normal = 1082\n",
        "num_opacity = 3110\n",
        "\n",
        "weight_for_0 = (1 / num_normal) * (total_samples / 2.0)\n",
        "weight_for_1 = (1 / num_opacity) * (total_samples / 2.0)\n",
        "\n",
        "class_weights_dict = {0: weight_for_0, 1: weight_for_1}\n",
        "\n",
        "print(f\"Weight for class 0 (Normal): {weight_for_0:.2f}\")\n",
        "print(f\"Weight for class 1 (Opacity): {weight_for_1:.2f}\")"
      ],
      "metadata": {
        "colab": {
          "base_uri": "https://localhost:8080/"
        },
        "id": "_axZ4zG9G5TD",
        "outputId": "0d6699e4-22f0-47b1-9753-2e3d59b3eef5"
      },
      "execution_count": 10,
      "outputs": [
        {
          "output_type": "stream",
          "name": "stdout",
          "text": [
            "Weight for class 0 (Normal): 1.94\n",
            "Weight for class 1 (Opacity): 0.67\n"
          ]
        }
      ]
    },
    {
      "metadata": {
        "id": "1NhtI_T_JV0h"
      },
      "cell_type": "markdown",
      "source": [
        "# Models\n",
        "\n",
        "Several model architectures were developed and tested to find the best-performing solution.\n",
        "\n",
        "1.  **Custom CNN (`model_1`):** A custom CNN using a `Flatten` layer. This served as the first baseline.\n",
        "2.  **Custom CNN with GAP (`model_2`):** An improved version of the custom model that replaced the `Flatten` layer with `GlobalAveragePooling2D` to reduce parameters and combat overfitting.\n",
        "3.  **Transfer Learning (`transfer_model_1`):** A `EfficientNetB0` model was used as a feature extractor.\n",
        "4.  **Fine-Tuned Transfer Learning:** The final step, where the top layers of the `EfficientNetB0` model were unfrozen and trained on the dataset to maximize performance."
      ]
    },
    {
      "cell_type": "code",
      "source": [
        "import tensorflow as tf\n",
        "from tensorflow.keras.models import Sequential\n",
        "from tensorflow.keras.layers import Conv2D, MaxPool2D, Flatten, Dense, BatchNormalization, Dropout, Activation\n",
        "from tensorflow.keras.optimizers import AdamW\n",
        "from tensorflow.keras.losses import BinaryCrossentropy\n",
        "\n",
        "model_1 = Sequential([\n",
        "\n",
        "    Conv2D(64, 3, padding='same', use_bias=False),\n",
        "    BatchNormalization(),\n",
        "    Activation('relu'),\n",
        "    Conv2D(64, 3, padding='same', use_bias=False),\n",
        "    BatchNormalization(),\n",
        "    Activation('relu'),\n",
        "    MaxPool2D(2),\n",
        "\n",
        "    Conv2D(128, 3, padding='same', use_bias=False),\n",
        "    BatchNormalization(),\n",
        "    Activation('relu'),\n",
        "    Conv2D(128, 3, padding='same', use_bias=False),\n",
        "    BatchNormalization(),\n",
        "    Activation('relu'),\n",
        "    MaxPool2D(2),\n",
        "    Dropout(0.2),\n",
        "\n",
        "    Conv2D(256, 3, padding='same', use_bias=False),\n",
        "    BatchNormalization(),\n",
        "    Activation('relu'),\n",
        "    Conv2D(256, 3, padding='same', use_bias=False),\n",
        "    BatchNormalization(),\n",
        "    Activation('relu'),\n",
        "    MaxPool2D(2),\n",
        "    Dropout(0.3),\n",
        "\n",
        "\n",
        "    Flatten(),\n",
        "    Dense(128, use_bias=False),\n",
        "    BatchNormalization(),\n",
        "    Activation('relu'),\n",
        "    Dropout(0.5),\n",
        "    Dense(1, activation='sigmoid')\n",
        "])\n",
        "\n",
        "model_1.compile(\n",
        "    optimizer=AdamW(),\n",
        "    loss=BinaryCrossentropy(),\n",
        "    metrics=[\n",
        "        'accuracy',\n",
        "        tf.keras.metrics.Precision(name='precision'),\n",
        "        tf.keras.metrics.Recall(name='recall'),\n",
        "        tf.keras.metrics.F1Score(name='f1_score', threshold=0.5)\n",
        "    ]\n",
        ")\n",
        "\n",
        "model_1.summary()\n",
        "\n",
        "model_1_callbacks = create_callbacks(\"model_1\")"
      ],
      "metadata": {
        "colab": {
          "base_uri": "https://localhost:8080/",
          "height": 1000
        },
        "id": "jFVZtebL3Q6P",
        "outputId": "d5512d48-83cb-4d97-947b-9b5acac0f833"
      },
      "execution_count": 11,
      "outputs": [
        {
          "output_type": "display_data",
          "data": {
            "text/plain": [
              "\u001b[1mModel: \"sequential_1\"\u001b[0m\n"
            ],
            "text/html": [
              "<pre style=\"white-space:pre;overflow-x:auto;line-height:normal;font-family:Menlo,'DejaVu Sans Mono',consolas,'Courier New',monospace\"><span style=\"font-weight: bold\">Model: \"sequential_1\"</span>\n",
              "</pre>\n"
            ]
          },
          "metadata": {}
        },
        {
          "output_type": "display_data",
          "data": {
            "text/plain": [
              "┏━━━━━━━━━━━━━━━━━━━━━━━━━━━━━━━━━┳━━━━━━━━━━━━━━━━━━━━━━━━┳━━━━━━━━━━━━━━━┓\n",
              "┃\u001b[1m \u001b[0m\u001b[1mLayer (type)                   \u001b[0m\u001b[1m \u001b[0m┃\u001b[1m \u001b[0m\u001b[1mOutput Shape          \u001b[0m\u001b[1m \u001b[0m┃\u001b[1m \u001b[0m\u001b[1m      Param #\u001b[0m\u001b[1m \u001b[0m┃\n",
              "┡━━━━━━━━━━━━━━━━━━━━━━━━━━━━━━━━━╇━━━━━━━━━━━━━━━━━━━━━━━━╇━━━━━━━━━━━━━━━┩\n",
              "│ conv2d (\u001b[38;5;33mConv2D\u001b[0m)                 │ ?                      │   \u001b[38;5;34m0\u001b[0m (unbuilt) │\n",
              "├─────────────────────────────────┼────────────────────────┼───────────────┤\n",
              "│ batch_normalization             │ ?                      │   \u001b[38;5;34m0\u001b[0m (unbuilt) │\n",
              "│ (\u001b[38;5;33mBatchNormalization\u001b[0m)            │                        │               │\n",
              "├─────────────────────────────────┼────────────────────────┼───────────────┤\n",
              "│ activation (\u001b[38;5;33mActivation\u001b[0m)         │ ?                      │             \u001b[38;5;34m0\u001b[0m │\n",
              "├─────────────────────────────────┼────────────────────────┼───────────────┤\n",
              "│ conv2d_1 (\u001b[38;5;33mConv2D\u001b[0m)               │ ?                      │   \u001b[38;5;34m0\u001b[0m (unbuilt) │\n",
              "├─────────────────────────────────┼────────────────────────┼───────────────┤\n",
              "│ batch_normalization_1           │ ?                      │   \u001b[38;5;34m0\u001b[0m (unbuilt) │\n",
              "│ (\u001b[38;5;33mBatchNormalization\u001b[0m)            │                        │               │\n",
              "├─────────────────────────────────┼────────────────────────┼───────────────┤\n",
              "│ activation_1 (\u001b[38;5;33mActivation\u001b[0m)       │ ?                      │             \u001b[38;5;34m0\u001b[0m │\n",
              "├─────────────────────────────────┼────────────────────────┼───────────────┤\n",
              "│ max_pooling2d (\u001b[38;5;33mMaxPooling2D\u001b[0m)    │ ?                      │             \u001b[38;5;34m0\u001b[0m │\n",
              "├─────────────────────────────────┼────────────────────────┼───────────────┤\n",
              "│ conv2d_2 (\u001b[38;5;33mConv2D\u001b[0m)               │ ?                      │   \u001b[38;5;34m0\u001b[0m (unbuilt) │\n",
              "├─────────────────────────────────┼────────────────────────┼───────────────┤\n",
              "│ batch_normalization_2           │ ?                      │   \u001b[38;5;34m0\u001b[0m (unbuilt) │\n",
              "│ (\u001b[38;5;33mBatchNormalization\u001b[0m)            │                        │               │\n",
              "├─────────────────────────────────┼────────────────────────┼───────────────┤\n",
              "│ activation_2 (\u001b[38;5;33mActivation\u001b[0m)       │ ?                      │             \u001b[38;5;34m0\u001b[0m │\n",
              "├─────────────────────────────────┼────────────────────────┼───────────────┤\n",
              "│ conv2d_3 (\u001b[38;5;33mConv2D\u001b[0m)               │ ?                      │   \u001b[38;5;34m0\u001b[0m (unbuilt) │\n",
              "├─────────────────────────────────┼────────────────────────┼───────────────┤\n",
              "│ batch_normalization_3           │ ?                      │   \u001b[38;5;34m0\u001b[0m (unbuilt) │\n",
              "│ (\u001b[38;5;33mBatchNormalization\u001b[0m)            │                        │               │\n",
              "├─────────────────────────────────┼────────────────────────┼───────────────┤\n",
              "│ activation_3 (\u001b[38;5;33mActivation\u001b[0m)       │ ?                      │             \u001b[38;5;34m0\u001b[0m │\n",
              "├─────────────────────────────────┼────────────────────────┼───────────────┤\n",
              "│ max_pooling2d_1 (\u001b[38;5;33mMaxPooling2D\u001b[0m)  │ ?                      │             \u001b[38;5;34m0\u001b[0m │\n",
              "├─────────────────────────────────┼────────────────────────┼───────────────┤\n",
              "│ dropout (\u001b[38;5;33mDropout\u001b[0m)               │ ?                      │             \u001b[38;5;34m0\u001b[0m │\n",
              "├─────────────────────────────────┼────────────────────────┼───────────────┤\n",
              "│ conv2d_4 (\u001b[38;5;33mConv2D\u001b[0m)               │ ?                      │   \u001b[38;5;34m0\u001b[0m (unbuilt) │\n",
              "├─────────────────────────────────┼────────────────────────┼───────────────┤\n",
              "│ batch_normalization_4           │ ?                      │   \u001b[38;5;34m0\u001b[0m (unbuilt) │\n",
              "│ (\u001b[38;5;33mBatchNormalization\u001b[0m)            │                        │               │\n",
              "├─────────────────────────────────┼────────────────────────┼───────────────┤\n",
              "│ activation_4 (\u001b[38;5;33mActivation\u001b[0m)       │ ?                      │             \u001b[38;5;34m0\u001b[0m │\n",
              "├─────────────────────────────────┼────────────────────────┼───────────────┤\n",
              "│ conv2d_5 (\u001b[38;5;33mConv2D\u001b[0m)               │ ?                      │   \u001b[38;5;34m0\u001b[0m (unbuilt) │\n",
              "├─────────────────────────────────┼────────────────────────┼───────────────┤\n",
              "│ batch_normalization_5           │ ?                      │   \u001b[38;5;34m0\u001b[0m (unbuilt) │\n",
              "│ (\u001b[38;5;33mBatchNormalization\u001b[0m)            │                        │               │\n",
              "├─────────────────────────────────┼────────────────────────┼───────────────┤\n",
              "│ activation_5 (\u001b[38;5;33mActivation\u001b[0m)       │ ?                      │             \u001b[38;5;34m0\u001b[0m │\n",
              "├─────────────────────────────────┼────────────────────────┼───────────────┤\n",
              "│ max_pooling2d_2 (\u001b[38;5;33mMaxPooling2D\u001b[0m)  │ ?                      │             \u001b[38;5;34m0\u001b[0m │\n",
              "├─────────────────────────────────┼────────────────────────┼───────────────┤\n",
              "│ dropout_1 (\u001b[38;5;33mDropout\u001b[0m)             │ ?                      │             \u001b[38;5;34m0\u001b[0m │\n",
              "├─────────────────────────────────┼────────────────────────┼───────────────┤\n",
              "│ flatten (\u001b[38;5;33mFlatten\u001b[0m)               │ ?                      │   \u001b[38;5;34m0\u001b[0m (unbuilt) │\n",
              "├─────────────────────────────────┼────────────────────────┼───────────────┤\n",
              "│ dense (\u001b[38;5;33mDense\u001b[0m)                   │ ?                      │   \u001b[38;5;34m0\u001b[0m (unbuilt) │\n",
              "├─────────────────────────────────┼────────────────────────┼───────────────┤\n",
              "│ batch_normalization_6           │ ?                      │   \u001b[38;5;34m0\u001b[0m (unbuilt) │\n",
              "│ (\u001b[38;5;33mBatchNormalization\u001b[0m)            │                        │               │\n",
              "├─────────────────────────────────┼────────────────────────┼───────────────┤\n",
              "│ activation_6 (\u001b[38;5;33mActivation\u001b[0m)       │ ?                      │             \u001b[38;5;34m0\u001b[0m │\n",
              "├─────────────────────────────────┼────────────────────────┼───────────────┤\n",
              "│ dropout_2 (\u001b[38;5;33mDropout\u001b[0m)             │ ?                      │             \u001b[38;5;34m0\u001b[0m │\n",
              "├─────────────────────────────────┼────────────────────────┼───────────────┤\n",
              "│ dense_1 (\u001b[38;5;33mDense\u001b[0m)                 │ ?                      │   \u001b[38;5;34m0\u001b[0m (unbuilt) │\n",
              "└─────────────────────────────────┴────────────────────────┴───────────────┘\n"
            ],
            "text/html": [
              "<pre style=\"white-space:pre;overflow-x:auto;line-height:normal;font-family:Menlo,'DejaVu Sans Mono',consolas,'Courier New',monospace\">┏━━━━━━━━━━━━━━━━━━━━━━━━━━━━━━━━━┳━━━━━━━━━━━━━━━━━━━━━━━━┳━━━━━━━━━━━━━━━┓\n",
              "┃<span style=\"font-weight: bold\"> Layer (type)                    </span>┃<span style=\"font-weight: bold\"> Output Shape           </span>┃<span style=\"font-weight: bold\">       Param # </span>┃\n",
              "┡━━━━━━━━━━━━━━━━━━━━━━━━━━━━━━━━━╇━━━━━━━━━━━━━━━━━━━━━━━━╇━━━━━━━━━━━━━━━┩\n",
              "│ conv2d (<span style=\"color: #0087ff; text-decoration-color: #0087ff\">Conv2D</span>)                 │ ?                      │   <span style=\"color: #00af00; text-decoration-color: #00af00\">0</span> (unbuilt) │\n",
              "├─────────────────────────────────┼────────────────────────┼───────────────┤\n",
              "│ batch_normalization             │ ?                      │   <span style=\"color: #00af00; text-decoration-color: #00af00\">0</span> (unbuilt) │\n",
              "│ (<span style=\"color: #0087ff; text-decoration-color: #0087ff\">BatchNormalization</span>)            │                        │               │\n",
              "├─────────────────────────────────┼────────────────────────┼───────────────┤\n",
              "│ activation (<span style=\"color: #0087ff; text-decoration-color: #0087ff\">Activation</span>)         │ ?                      │             <span style=\"color: #00af00; text-decoration-color: #00af00\">0</span> │\n",
              "├─────────────────────────────────┼────────────────────────┼───────────────┤\n",
              "│ conv2d_1 (<span style=\"color: #0087ff; text-decoration-color: #0087ff\">Conv2D</span>)               │ ?                      │   <span style=\"color: #00af00; text-decoration-color: #00af00\">0</span> (unbuilt) │\n",
              "├─────────────────────────────────┼────────────────────────┼───────────────┤\n",
              "│ batch_normalization_1           │ ?                      │   <span style=\"color: #00af00; text-decoration-color: #00af00\">0</span> (unbuilt) │\n",
              "│ (<span style=\"color: #0087ff; text-decoration-color: #0087ff\">BatchNormalization</span>)            │                        │               │\n",
              "├─────────────────────────────────┼────────────────────────┼───────────────┤\n",
              "│ activation_1 (<span style=\"color: #0087ff; text-decoration-color: #0087ff\">Activation</span>)       │ ?                      │             <span style=\"color: #00af00; text-decoration-color: #00af00\">0</span> │\n",
              "├─────────────────────────────────┼────────────────────────┼───────────────┤\n",
              "│ max_pooling2d (<span style=\"color: #0087ff; text-decoration-color: #0087ff\">MaxPooling2D</span>)    │ ?                      │             <span style=\"color: #00af00; text-decoration-color: #00af00\">0</span> │\n",
              "├─────────────────────────────────┼────────────────────────┼───────────────┤\n",
              "│ conv2d_2 (<span style=\"color: #0087ff; text-decoration-color: #0087ff\">Conv2D</span>)               │ ?                      │   <span style=\"color: #00af00; text-decoration-color: #00af00\">0</span> (unbuilt) │\n",
              "├─────────────────────────────────┼────────────────────────┼───────────────┤\n",
              "│ batch_normalization_2           │ ?                      │   <span style=\"color: #00af00; text-decoration-color: #00af00\">0</span> (unbuilt) │\n",
              "│ (<span style=\"color: #0087ff; text-decoration-color: #0087ff\">BatchNormalization</span>)            │                        │               │\n",
              "├─────────────────────────────────┼────────────────────────┼───────────────┤\n",
              "│ activation_2 (<span style=\"color: #0087ff; text-decoration-color: #0087ff\">Activation</span>)       │ ?                      │             <span style=\"color: #00af00; text-decoration-color: #00af00\">0</span> │\n",
              "├─────────────────────────────────┼────────────────────────┼───────────────┤\n",
              "│ conv2d_3 (<span style=\"color: #0087ff; text-decoration-color: #0087ff\">Conv2D</span>)               │ ?                      │   <span style=\"color: #00af00; text-decoration-color: #00af00\">0</span> (unbuilt) │\n",
              "├─────────────────────────────────┼────────────────────────┼───────────────┤\n",
              "│ batch_normalization_3           │ ?                      │   <span style=\"color: #00af00; text-decoration-color: #00af00\">0</span> (unbuilt) │\n",
              "│ (<span style=\"color: #0087ff; text-decoration-color: #0087ff\">BatchNormalization</span>)            │                        │               │\n",
              "├─────────────────────────────────┼────────────────────────┼───────────────┤\n",
              "│ activation_3 (<span style=\"color: #0087ff; text-decoration-color: #0087ff\">Activation</span>)       │ ?                      │             <span style=\"color: #00af00; text-decoration-color: #00af00\">0</span> │\n",
              "├─────────────────────────────────┼────────────────────────┼───────────────┤\n",
              "│ max_pooling2d_1 (<span style=\"color: #0087ff; text-decoration-color: #0087ff\">MaxPooling2D</span>)  │ ?                      │             <span style=\"color: #00af00; text-decoration-color: #00af00\">0</span> │\n",
              "├─────────────────────────────────┼────────────────────────┼───────────────┤\n",
              "│ dropout (<span style=\"color: #0087ff; text-decoration-color: #0087ff\">Dropout</span>)               │ ?                      │             <span style=\"color: #00af00; text-decoration-color: #00af00\">0</span> │\n",
              "├─────────────────────────────────┼────────────────────────┼───────────────┤\n",
              "│ conv2d_4 (<span style=\"color: #0087ff; text-decoration-color: #0087ff\">Conv2D</span>)               │ ?                      │   <span style=\"color: #00af00; text-decoration-color: #00af00\">0</span> (unbuilt) │\n",
              "├─────────────────────────────────┼────────────────────────┼───────────────┤\n",
              "│ batch_normalization_4           │ ?                      │   <span style=\"color: #00af00; text-decoration-color: #00af00\">0</span> (unbuilt) │\n",
              "│ (<span style=\"color: #0087ff; text-decoration-color: #0087ff\">BatchNormalization</span>)            │                        │               │\n",
              "├─────────────────────────────────┼────────────────────────┼───────────────┤\n",
              "│ activation_4 (<span style=\"color: #0087ff; text-decoration-color: #0087ff\">Activation</span>)       │ ?                      │             <span style=\"color: #00af00; text-decoration-color: #00af00\">0</span> │\n",
              "├─────────────────────────────────┼────────────────────────┼───────────────┤\n",
              "│ conv2d_5 (<span style=\"color: #0087ff; text-decoration-color: #0087ff\">Conv2D</span>)               │ ?                      │   <span style=\"color: #00af00; text-decoration-color: #00af00\">0</span> (unbuilt) │\n",
              "├─────────────────────────────────┼────────────────────────┼───────────────┤\n",
              "│ batch_normalization_5           │ ?                      │   <span style=\"color: #00af00; text-decoration-color: #00af00\">0</span> (unbuilt) │\n",
              "│ (<span style=\"color: #0087ff; text-decoration-color: #0087ff\">BatchNormalization</span>)            │                        │               │\n",
              "├─────────────────────────────────┼────────────────────────┼───────────────┤\n",
              "│ activation_5 (<span style=\"color: #0087ff; text-decoration-color: #0087ff\">Activation</span>)       │ ?                      │             <span style=\"color: #00af00; text-decoration-color: #00af00\">0</span> │\n",
              "├─────────────────────────────────┼────────────────────────┼───────────────┤\n",
              "│ max_pooling2d_2 (<span style=\"color: #0087ff; text-decoration-color: #0087ff\">MaxPooling2D</span>)  │ ?                      │             <span style=\"color: #00af00; text-decoration-color: #00af00\">0</span> │\n",
              "├─────────────────────────────────┼────────────────────────┼───────────────┤\n",
              "│ dropout_1 (<span style=\"color: #0087ff; text-decoration-color: #0087ff\">Dropout</span>)             │ ?                      │             <span style=\"color: #00af00; text-decoration-color: #00af00\">0</span> │\n",
              "├─────────────────────────────────┼────────────────────────┼───────────────┤\n",
              "│ flatten (<span style=\"color: #0087ff; text-decoration-color: #0087ff\">Flatten</span>)               │ ?                      │   <span style=\"color: #00af00; text-decoration-color: #00af00\">0</span> (unbuilt) │\n",
              "├─────────────────────────────────┼────────────────────────┼───────────────┤\n",
              "│ dense (<span style=\"color: #0087ff; text-decoration-color: #0087ff\">Dense</span>)                   │ ?                      │   <span style=\"color: #00af00; text-decoration-color: #00af00\">0</span> (unbuilt) │\n",
              "├─────────────────────────────────┼────────────────────────┼───────────────┤\n",
              "│ batch_normalization_6           │ ?                      │   <span style=\"color: #00af00; text-decoration-color: #00af00\">0</span> (unbuilt) │\n",
              "│ (<span style=\"color: #0087ff; text-decoration-color: #0087ff\">BatchNormalization</span>)            │                        │               │\n",
              "├─────────────────────────────────┼────────────────────────┼───────────────┤\n",
              "│ activation_6 (<span style=\"color: #0087ff; text-decoration-color: #0087ff\">Activation</span>)       │ ?                      │             <span style=\"color: #00af00; text-decoration-color: #00af00\">0</span> │\n",
              "├─────────────────────────────────┼────────────────────────┼───────────────┤\n",
              "│ dropout_2 (<span style=\"color: #0087ff; text-decoration-color: #0087ff\">Dropout</span>)             │ ?                      │             <span style=\"color: #00af00; text-decoration-color: #00af00\">0</span> │\n",
              "├─────────────────────────────────┼────────────────────────┼───────────────┤\n",
              "│ dense_1 (<span style=\"color: #0087ff; text-decoration-color: #0087ff\">Dense</span>)                 │ ?                      │   <span style=\"color: #00af00; text-decoration-color: #00af00\">0</span> (unbuilt) │\n",
              "└─────────────────────────────────┴────────────────────────┴───────────────┘\n",
              "</pre>\n"
            ]
          },
          "metadata": {}
        },
        {
          "output_type": "display_data",
          "data": {
            "text/plain": [
              "\u001b[1m Total params: \u001b[0m\u001b[38;5;34m0\u001b[0m (0.00 B)\n"
            ],
            "text/html": [
              "<pre style=\"white-space:pre;overflow-x:auto;line-height:normal;font-family:Menlo,'DejaVu Sans Mono',consolas,'Courier New',monospace\"><span style=\"font-weight: bold\"> Total params: </span><span style=\"color: #00af00; text-decoration-color: #00af00\">0</span> (0.00 B)\n",
              "</pre>\n"
            ]
          },
          "metadata": {}
        },
        {
          "output_type": "display_data",
          "data": {
            "text/plain": [
              "\u001b[1m Trainable params: \u001b[0m\u001b[38;5;34m0\u001b[0m (0.00 B)\n"
            ],
            "text/html": [
              "<pre style=\"white-space:pre;overflow-x:auto;line-height:normal;font-family:Menlo,'DejaVu Sans Mono',consolas,'Courier New',monospace\"><span style=\"font-weight: bold\"> Trainable params: </span><span style=\"color: #00af00; text-decoration-color: #00af00\">0</span> (0.00 B)\n",
              "</pre>\n"
            ]
          },
          "metadata": {}
        },
        {
          "output_type": "display_data",
          "data": {
            "text/plain": [
              "\u001b[1m Non-trainable params: \u001b[0m\u001b[38;5;34m0\u001b[0m (0.00 B)\n"
            ],
            "text/html": [
              "<pre style=\"white-space:pre;overflow-x:auto;line-height:normal;font-family:Menlo,'DejaVu Sans Mono',consolas,'Courier New',monospace\"><span style=\"font-weight: bold\"> Non-trainable params: </span><span style=\"color: #00af00; text-decoration-color: #00af00\">0</span> (0.00 B)\n",
              "</pre>\n"
            ]
          },
          "metadata": {}
        }
      ]
    },
    {
      "cell_type": "code",
      "source": [
        "model_1.fit(train_data, epochs=25, validation_data=test_data, class_weight=class_weights_dict, callbacks=model_1_callbacks)"
      ],
      "metadata": {
        "colab": {
          "base_uri": "https://localhost:8080/"
        },
        "id": "7VMOfX6x36xc",
        "outputId": "18c7d5f4-cbc1-4214-eb2e-33635908d0ae"
      },
      "execution_count": 12,
      "outputs": [
        {
          "output_type": "stream",
          "name": "stdout",
          "text": [
            "Epoch 1/25\n",
            "\u001b[1m131/131\u001b[0m \u001b[32m━━━━━━━━━━━━━━━━━━━━\u001b[0m\u001b[37m\u001b[0m \u001b[1m0s\u001b[0m 353ms/step - accuracy: 0.8065 - f1_score: 0.8568 - loss: 0.4956 - precision: 0.9432 - recall: 0.7854\n",
            "Epoch 1: val_loss improved from inf to 2.73412, saving model to best_model_1.keras\n",
            "\u001b[1m131/131\u001b[0m \u001b[32m━━━━━━━━━━━━━━━━━━━━\u001b[0m\u001b[37m\u001b[0m \u001b[1m87s\u001b[0m 425ms/step - accuracy: 0.8066 - f1_score: 0.8569 - loss: 0.4952 - precision: 0.9432 - recall: 0.7856 - val_accuracy: 0.6250 - val_f1_score: 0.7692 - val_loss: 2.7341 - val_precision: 0.6250 - val_recall: 1.0000 - learning_rate: 0.0010\n",
            "Epoch 2/25\n",
            "\u001b[1m131/131\u001b[0m \u001b[32m━━━━━━━━━━━━━━━━━━━━\u001b[0m\u001b[37m\u001b[0m \u001b[1m0s\u001b[0m 153ms/step - accuracy: 0.8700 - f1_score: 0.9068 - loss: 0.2876 - precision: 0.9640 - recall: 0.8560\n",
            "Epoch 2: val_loss improved from 2.73412 to 2.38209, saving model to best_model_1.keras\n",
            "\u001b[1m131/131\u001b[0m \u001b[32m━━━━━━━━━━━━━━━━━━━━\u001b[0m\u001b[37m\u001b[0m \u001b[1m22s\u001b[0m 165ms/step - accuracy: 0.8700 - f1_score: 0.9068 - loss: 0.2877 - precision: 0.9640 - recall: 0.8560 - val_accuracy: 0.6250 - val_f1_score: 0.7692 - val_loss: 2.3821 - val_precision: 0.6250 - val_recall: 1.0000 - learning_rate: 0.0010\n",
            "Epoch 3/25\n",
            "\u001b[1m131/131\u001b[0m \u001b[32m━━━━━━━━━━━━━━━━━━━━\u001b[0m\u001b[37m\u001b[0m \u001b[1m0s\u001b[0m 153ms/step - accuracy: 0.8946 - f1_score: 0.9249 - loss: 0.2349 - precision: 0.9773 - recall: 0.8778\n",
            "Epoch 3: val_loss did not improve from 2.38209\n",
            "\u001b[1m131/131\u001b[0m \u001b[32m━━━━━━━━━━━━━━━━━━━━\u001b[0m\u001b[37m\u001b[0m \u001b[1m40s\u001b[0m 160ms/step - accuracy: 0.8946 - f1_score: 0.9248 - loss: 0.2350 - precision: 0.9773 - recall: 0.8778 - val_accuracy: 0.6250 - val_f1_score: 0.7692 - val_loss: 2.5269 - val_precision: 0.6250 - val_recall: 1.0000 - learning_rate: 0.0010\n",
            "Epoch 4/25\n",
            "\u001b[1m131/131\u001b[0m \u001b[32m━━━━━━━━━━━━━━━━━━━━\u001b[0m\u001b[37m\u001b[0m \u001b[1m0s\u001b[0m 153ms/step - accuracy: 0.9159 - f1_score: 0.9408 - loss: 0.1950 - precision: 0.9791 - recall: 0.9054\n",
            "Epoch 4: val_loss improved from 2.38209 to 1.18178, saving model to best_model_1.keras\n",
            "\u001b[1m131/131\u001b[0m \u001b[32m━━━━━━━━━━━━━━━━━━━━\u001b[0m\u001b[37m\u001b[0m \u001b[1m42s\u001b[0m 165ms/step - accuracy: 0.9158 - f1_score: 0.9408 - loss: 0.1951 - precision: 0.9791 - recall: 0.9053 - val_accuracy: 0.6779 - val_f1_score: 0.7943 - val_loss: 1.1818 - val_precision: 0.6610 - val_recall: 0.9949 - learning_rate: 0.0010\n",
            "Epoch 5/25\n",
            "\u001b[1m131/131\u001b[0m \u001b[32m━━━━━━━━━━━━━━━━━━━━\u001b[0m\u001b[37m\u001b[0m \u001b[1m0s\u001b[0m 154ms/step - accuracy: 0.9258 - f1_score: 0.9481 - loss: 0.1713 - precision: 0.9792 - recall: 0.9189\n",
            "Epoch 5: val_loss did not improve from 1.18178\n",
            "\u001b[1m131/131\u001b[0m \u001b[32m━━━━━━━━━━━━━━━━━━━━\u001b[0m\u001b[37m\u001b[0m \u001b[1m40s\u001b[0m 160ms/step - accuracy: 0.9257 - f1_score: 0.9481 - loss: 0.1713 - precision: 0.9792 - recall: 0.9189 - val_accuracy: 0.6266 - val_f1_score: 0.7700 - val_loss: 1.8810 - val_precision: 0.6260 - val_recall: 1.0000 - learning_rate: 0.0010\n",
            "Epoch 6/25\n",
            "\u001b[1m131/131\u001b[0m \u001b[32m━━━━━━━━━━━━━━━━━━━━\u001b[0m\u001b[37m\u001b[0m \u001b[1m0s\u001b[0m 153ms/step - accuracy: 0.9374 - f1_score: 0.9563 - loss: 0.1421 - precision: 0.9860 - recall: 0.9285\n",
            "Epoch 6: val_loss improved from 1.18178 to 0.55140, saving model to best_model_1.keras\n",
            "\u001b[1m131/131\u001b[0m \u001b[32m━━━━━━━━━━━━━━━━━━━━\u001b[0m\u001b[37m\u001b[0m \u001b[1m42s\u001b[0m 165ms/step - accuracy: 0.9374 - f1_score: 0.9563 - loss: 0.1422 - precision: 0.9860 - recall: 0.9285 - val_accuracy: 0.8109 - val_f1_score: 0.8518 - val_loss: 0.5514 - val_precision: 0.8350 - val_recall: 0.8692 - learning_rate: 0.0010\n",
            "Epoch 7/25\n",
            "\u001b[1m131/131\u001b[0m \u001b[32m━━━━━━━━━━━━━━━━━━━━\u001b[0m\u001b[37m\u001b[0m \u001b[1m0s\u001b[0m 156ms/step - accuracy: 0.9515 - f1_score: 0.9664 - loss: 0.1167 - precision: 0.9893 - recall: 0.9446\n",
            "Epoch 7: val_loss did not improve from 0.55140\n",
            "\u001b[1m131/131\u001b[0m \u001b[32m━━━━━━━━━━━━━━━━━━━━\u001b[0m\u001b[37m\u001b[0m \u001b[1m21s\u001b[0m 163ms/step - accuracy: 0.9515 - f1_score: 0.9664 - loss: 0.1167 - precision: 0.9893 - recall: 0.9446 - val_accuracy: 0.7580 - val_f1_score: 0.8353 - val_loss: 1.2866 - val_precision: 0.7268 - val_recall: 0.9821 - learning_rate: 0.0010\n",
            "Epoch 8/25\n",
            "\u001b[1m131/131\u001b[0m \u001b[32m━━━━━━━━━━━━━━━━━━━━\u001b[0m\u001b[37m\u001b[0m \u001b[1m0s\u001b[0m 152ms/step - accuracy: 0.9682 - f1_score: 0.9781 - loss: 0.0806 - precision: 0.9946 - recall: 0.9622\n",
            "Epoch 8: val_loss improved from 0.55140 to 0.45946, saving model to best_model_1.keras\n",
            "\u001b[1m131/131\u001b[0m \u001b[32m━━━━━━━━━━━━━━━━━━━━\u001b[0m\u001b[37m\u001b[0m \u001b[1m41s\u001b[0m 164ms/step - accuracy: 0.9681 - f1_score: 0.9781 - loss: 0.0807 - precision: 0.9946 - recall: 0.9622 - val_accuracy: 0.8333 - val_f1_score: 0.8519 - val_loss: 0.4595 - val_precision: 0.9583 - val_recall: 0.7667 - learning_rate: 0.0010\n",
            "Epoch 9/25\n",
            "\u001b[1m131/131\u001b[0m \u001b[32m━━━━━━━━━━━━━━━━━━━━\u001b[0m\u001b[37m\u001b[0m \u001b[1m0s\u001b[0m 155ms/step - accuracy: 0.9712 - f1_score: 0.9801 - loss: 0.0697 - precision: 0.9964 - recall: 0.9644\n",
            "Epoch 9: val_loss did not improve from 0.45946\n",
            "\u001b[1m131/131\u001b[0m \u001b[32m━━━━━━━━━━━━━━━━━━━━\u001b[0m\u001b[37m\u001b[0m \u001b[1m41s\u001b[0m 165ms/step - accuracy: 0.9712 - f1_score: 0.9801 - loss: 0.0697 - precision: 0.9964 - recall: 0.9645 - val_accuracy: 0.7548 - val_f1_score: 0.7664 - val_loss: 0.6898 - val_precision: 0.9472 - val_recall: 0.6436 - learning_rate: 0.0010\n",
            "Epoch 10/25\n",
            "\u001b[1m131/131\u001b[0m \u001b[32m━━━━━━━━━━━━━━━━━━━━\u001b[0m\u001b[37m\u001b[0m \u001b[1m0s\u001b[0m 153ms/step - accuracy: 0.9773 - f1_score: 0.9844 - loss: 0.0622 - precision: 0.9973 - recall: 0.9719\n",
            "Epoch 10: val_loss did not improve from 0.45946\n",
            "\u001b[1m131/131\u001b[0m \u001b[32m━━━━━━━━━━━━━━━━━━━━\u001b[0m\u001b[37m\u001b[0m \u001b[1m40s\u001b[0m 159ms/step - accuracy: 0.9773 - f1_score: 0.9844 - loss: 0.0622 - precision: 0.9973 - recall: 0.9719 - val_accuracy: 0.7468 - val_f1_score: 0.7591 - val_loss: 0.8053 - val_precision: 0.9361 - val_recall: 0.6385 - learning_rate: 0.0010\n",
            "Epoch 11/25\n",
            "\u001b[1m131/131\u001b[0m \u001b[32m━━━━━━━━━━━━━━━━━━━━\u001b[0m\u001b[37m\u001b[0m \u001b[1m0s\u001b[0m 154ms/step - accuracy: 0.9795 - f1_score: 0.9860 - loss: 0.0578 - precision: 0.9965 - recall: 0.9757\n",
            "Epoch 11: val_loss did not improve from 0.45946\n",
            "\u001b[1m131/131\u001b[0m \u001b[32m━━━━━━━━━━━━━━━━━━━━\u001b[0m\u001b[37m\u001b[0m \u001b[1m41s\u001b[0m 161ms/step - accuracy: 0.9795 - f1_score: 0.9860 - loss: 0.0578 - precision: 0.9965 - recall: 0.9757 - val_accuracy: 0.8077 - val_f1_score: 0.8639 - val_loss: 0.7373 - val_precision: 0.7744 - val_recall: 0.9769 - learning_rate: 0.0010\n",
            "Epoch 12/25\n",
            "\u001b[1m131/131\u001b[0m \u001b[32m━━━━━━━━━━━━━━━━━━━━\u001b[0m\u001b[37m\u001b[0m \u001b[1m0s\u001b[0m 153ms/step - accuracy: 0.9816 - f1_score: 0.9874 - loss: 0.0470 - precision: 0.9950 - recall: 0.9800\n",
            "Epoch 12: val_loss did not improve from 0.45946\n",
            "\u001b[1m131/131\u001b[0m \u001b[32m━━━━━━━━━━━━━━━━━━━━\u001b[0m\u001b[37m\u001b[0m \u001b[1m41s\u001b[0m 160ms/step - accuracy: 0.9816 - f1_score: 0.9874 - loss: 0.0470 - precision: 0.9950 - recall: 0.9800 - val_accuracy: 0.8253 - val_f1_score: 0.8734 - val_loss: 0.6471 - val_precision: 0.7983 - val_recall: 0.9641 - learning_rate: 2.0000e-04\n",
            "Epoch 13/25\n",
            "\u001b[1m131/131\u001b[0m \u001b[32m━━━━━━━━━━━━━━━━━━━━\u001b[0m\u001b[37m\u001b[0m \u001b[1m0s\u001b[0m 154ms/step - accuracy: 0.9936 - f1_score: 0.9956 - loss: 0.0247 - precision: 0.9983 - recall: 0.9930\n",
            "Epoch 13: val_loss improved from 0.45946 to 0.40012, saving model to best_model_1.keras\n",
            "\u001b[1m131/131\u001b[0m \u001b[32m━━━━━━━━━━━━━━━━━━━━\u001b[0m\u001b[37m\u001b[0m \u001b[1m42s\u001b[0m 170ms/step - accuracy: 0.9936 - f1_score: 0.9956 - loss: 0.0247 - precision: 0.9983 - recall: 0.9930 - val_accuracy: 0.8734 - val_f1_score: 0.8983 - val_loss: 0.4001 - val_precision: 0.9018 - val_recall: 0.8949 - learning_rate: 2.0000e-04\n",
            "Epoch 14/25\n",
            "\u001b[1m131/131\u001b[0m \u001b[32m━━━━━━━━━━━━━━━━━━━━\u001b[0m\u001b[37m\u001b[0m \u001b[1m0s\u001b[0m 156ms/step - accuracy: 0.9980 - f1_score: 0.9986 - loss: 0.0177 - precision: 1.0000 - recall: 0.9973\n",
            "Epoch 14: val_loss did not improve from 0.40012\n",
            "\u001b[1m131/131\u001b[0m \u001b[32m━━━━━━━━━━━━━━━━━━━━\u001b[0m\u001b[37m\u001b[0m \u001b[1m21s\u001b[0m 162ms/step - accuracy: 0.9980 - f1_score: 0.9986 - loss: 0.0177 - precision: 1.0000 - recall: 0.9973 - val_accuracy: 0.8750 - val_f1_score: 0.9035 - val_loss: 0.4081 - val_precision: 0.8732 - val_recall: 0.9359 - learning_rate: 2.0000e-04\n",
            "Epoch 15/25\n",
            "\u001b[1m131/131\u001b[0m \u001b[32m━━━━━━━━━━━━━━━━━━━━\u001b[0m\u001b[37m\u001b[0m \u001b[1m0s\u001b[0m 151ms/step - accuracy: 0.9973 - f1_score: 0.9981 - loss: 0.0138 - precision: 0.9999 - recall: 0.9964\n",
            "Epoch 15: val_loss did not improve from 0.40012\n",
            "\u001b[1m131/131\u001b[0m \u001b[32m━━━━━━━━━━━━━━━━━━━━\u001b[0m\u001b[37m\u001b[0m \u001b[1m40s\u001b[0m 158ms/step - accuracy: 0.9973 - f1_score: 0.9981 - loss: 0.0138 - precision: 0.9999 - recall: 0.9964 - val_accuracy: 0.8766 - val_f1_score: 0.9053 - val_loss: 0.4189 - val_precision: 0.8700 - val_recall: 0.9436 - learning_rate: 2.0000e-04\n",
            "Epoch 16/25\n",
            "\u001b[1m131/131\u001b[0m \u001b[32m━━━━━━━━━━━━━━━━━━━━\u001b[0m\u001b[37m\u001b[0m \u001b[1m0s\u001b[0m 155ms/step - accuracy: 0.9987 - f1_score: 0.9991 - loss: 0.0118 - precision: 1.0000 - recall: 0.9982\n",
            "Epoch 16: val_loss did not improve from 0.40012\n",
            "\u001b[1m131/131\u001b[0m \u001b[32m━━━━━━━━━━━━━━━━━━━━\u001b[0m\u001b[37m\u001b[0m \u001b[1m22s\u001b[0m 165ms/step - accuracy: 0.9987 - f1_score: 0.9991 - loss: 0.0118 - precision: 1.0000 - recall: 0.9982 - val_accuracy: 0.8814 - val_f1_score: 0.9080 - val_loss: 0.4342 - val_precision: 0.8816 - val_recall: 0.9359 - learning_rate: 2.0000e-04\n",
            "Epoch 17/25\n",
            "\u001b[1m131/131\u001b[0m \u001b[32m━━━━━━━━━━━━━━━━━━━━\u001b[0m\u001b[37m\u001b[0m \u001b[1m0s\u001b[0m 152ms/step - accuracy: 0.9982 - f1_score: 0.9988 - loss: 0.0120 - precision: 1.0000 - recall: 0.9975\n",
            "Epoch 17: val_loss did not improve from 0.40012\n",
            "\u001b[1m131/131\u001b[0m \u001b[32m━━━━━━━━━━━━━━━━━━━━\u001b[0m\u001b[37m\u001b[0m \u001b[1m40s\u001b[0m 158ms/step - accuracy: 0.9982 - f1_score: 0.9988 - loss: 0.0120 - precision: 1.0000 - recall: 0.9975 - val_accuracy: 0.8814 - val_f1_score: 0.9075 - val_loss: 0.4390 - val_precision: 0.8854 - val_recall: 0.9308 - learning_rate: 4.0000e-05\n",
            "Epoch 18/25\n",
            "\u001b[1m131/131\u001b[0m \u001b[32m━━━━━━━━━━━━━━━━━━━━\u001b[0m\u001b[37m\u001b[0m \u001b[1m0s\u001b[0m 154ms/step - accuracy: 0.9992 - f1_score: 0.9995 - loss: 0.0087 - precision: 1.0000 - recall: 0.9990\n",
            "Epoch 18: val_loss did not improve from 0.40012\n",
            "\u001b[1m131/131\u001b[0m \u001b[32m━━━━━━━━━━━━━━━━━━━━\u001b[0m\u001b[37m\u001b[0m \u001b[1m42s\u001b[0m 164ms/step - accuracy: 0.9992 - f1_score: 0.9995 - loss: 0.0087 - precision: 1.0000 - recall: 0.9990 - val_accuracy: 0.8718 - val_f1_score: 0.9015 - val_loss: 0.4560 - val_precision: 0.8673 - val_recall: 0.9385 - learning_rate: 4.0000e-05\n",
            "Epoch 19/25\n",
            "\u001b[1m131/131\u001b[0m \u001b[32m━━━━━━━━━━━━━━━━━━━━\u001b[0m\u001b[37m\u001b[0m \u001b[1m0s\u001b[0m 153ms/step - accuracy: 0.9997 - f1_score: 0.9998 - loss: 0.0084 - precision: 1.0000 - recall: 0.9996\n",
            "Epoch 19: val_loss did not improve from 0.40012\n",
            "\u001b[1m131/131\u001b[0m \u001b[32m━━━━━━━━━━━━━━━━━━━━\u001b[0m\u001b[37m\u001b[0m \u001b[1m41s\u001b[0m 163ms/step - accuracy: 0.9997 - f1_score: 0.9998 - loss: 0.0084 - precision: 1.0000 - recall: 0.9996 - val_accuracy: 0.8718 - val_f1_score: 0.9010 - val_loss: 0.4621 - val_precision: 0.8708 - val_recall: 0.9333 - learning_rate: 4.0000e-05\n",
            "Epoch 20/25\n",
            "\u001b[1m131/131\u001b[0m \u001b[32m━━━━━━━━━━━━━━━━━━━━\u001b[0m\u001b[37m\u001b[0m \u001b[1m0s\u001b[0m 154ms/step - accuracy: 0.9996 - f1_score: 0.9997 - loss: 0.0077 - precision: 1.0000 - recall: 0.9995\n",
            "Epoch 20: val_loss did not improve from 0.40012\n",
            "\u001b[1m131/131\u001b[0m \u001b[32m━━━━━━━━━━━━━━━━━━━━\u001b[0m\u001b[37m\u001b[0m \u001b[1m41s\u001b[0m 161ms/step - accuracy: 0.9996 - f1_score: 0.9997 - loss: 0.0077 - precision: 1.0000 - recall: 0.9995 - val_accuracy: 0.8798 - val_f1_score: 0.9066 - val_loss: 0.4567 - val_precision: 0.8814 - val_recall: 0.9333 - learning_rate: 1.0000e-05\n",
            "Epoch 21/25\n",
            "\u001b[1m131/131\u001b[0m \u001b[32m━━━━━━━━━━━━━━━━━━━━\u001b[0m\u001b[37m\u001b[0m \u001b[1m0s\u001b[0m 152ms/step - accuracy: 1.0000 - f1_score: 1.0000 - loss: 0.0076 - precision: 1.0000 - recall: 1.0000\n",
            "Epoch 21: val_loss did not improve from 0.40012\n",
            "\u001b[1m131/131\u001b[0m \u001b[32m━━━━━━━━━━━━━━━━━━━━\u001b[0m\u001b[37m\u001b[0m \u001b[1m41s\u001b[0m 158ms/step - accuracy: 1.0000 - f1_score: 1.0000 - loss: 0.0076 - precision: 1.0000 - recall: 1.0000 - val_accuracy: 0.8750 - val_f1_score: 0.9030 - val_loss: 0.4558 - val_precision: 0.8768 - val_recall: 0.9308 - learning_rate: 1.0000e-05\n",
            "Epoch 22/25\n",
            "\u001b[1m131/131\u001b[0m \u001b[32m━━━━━━━━━━━━━━━━━━━━\u001b[0m\u001b[37m\u001b[0m \u001b[1m0s\u001b[0m 152ms/step - accuracy: 0.9998 - f1_score: 0.9998 - loss: 0.0076 - precision: 1.0000 - recall: 0.9997\n",
            "Epoch 22: val_loss did not improve from 0.40012\n",
            "\u001b[1m131/131\u001b[0m \u001b[32m━━━━━━━━━━━━━━━━━━━━\u001b[0m\u001b[37m\u001b[0m \u001b[1m41s\u001b[0m 163ms/step - accuracy: 0.9998 - f1_score: 0.9998 - loss: 0.0076 - precision: 1.0000 - recall: 0.9997 - val_accuracy: 0.8766 - val_f1_score: 0.9043 - val_loss: 0.4603 - val_precision: 0.8771 - val_recall: 0.9333 - learning_rate: 1.0000e-05\n",
            "Epoch 23/25\n",
            "\u001b[1m131/131\u001b[0m \u001b[32m━━━━━━━━━━━━━━━━━━━━\u001b[0m\u001b[37m\u001b[0m \u001b[1m0s\u001b[0m 154ms/step - accuracy: 1.0000 - f1_score: 1.0000 - loss: 0.0078 - precision: 1.0000 - recall: 1.0000\n",
            "Epoch 23: val_loss did not improve from 0.40012\n",
            "\u001b[1m131/131\u001b[0m \u001b[32m━━━━━━━━━━━━━━━━━━━━\u001b[0m\u001b[37m\u001b[0m \u001b[1m21s\u001b[0m 160ms/step - accuracy: 1.0000 - f1_score: 1.0000 - loss: 0.0078 - precision: 1.0000 - recall: 1.0000 - val_accuracy: 0.8766 - val_f1_score: 0.9041 - val_loss: 0.4571 - val_precision: 0.8789 - val_recall: 0.9308 - learning_rate: 1.0000e-05\n"
          ]
        },
        {
          "output_type": "execute_result",
          "data": {
            "text/plain": [
              "<keras.src.callbacks.history.History at 0x7d08416faed0>"
            ]
          },
          "metadata": {},
          "execution_count": 12
        }
      ]
    },
    {
      "cell_type": "code",
      "source": [
        "evaluate_best_model(\"model_1\")"
      ],
      "metadata": {
        "colab": {
          "base_uri": "https://localhost:8080/"
        },
        "id": "kbbI83rr38bb",
        "outputId": "a03126d0-8c47-496a-c66b-25e615abf261"
      },
      "execution_count": 13,
      "outputs": [
        {
          "output_type": "stream",
          "name": "stdout",
          "text": [
            "\u001b[1m20/20\u001b[0m \u001b[32m━━━━━━━━━━━━━━━━━━━━\u001b[0m\u001b[37m\u001b[0m \u001b[1m4s\u001b[0m 78ms/step - accuracy: 0.8603 - f1_score: 0.5437 - loss: 0.4777 - precision: 0.5177 - recall: 0.5857\n",
            "Test Set Evaluation:\n",
            "Loss: 0.400118887424469\n",
            "Accuracy: 0.8733974099159241\n",
            "Precision: 0.9018087983131409\n",
            "Recall: 0.8948717713356018\n",
            "F1-Score: 0.8983268737792969\n"
          ]
        }
      ]
    },
    {
      "cell_type": "code",
      "source": [
        "from tensorflow.keras.layers import GlobalAveragePooling2D\n",
        "\n",
        "model_2 = Sequential([\n",
        "    Conv2D(64, 3, padding='same', use_bias=False),\n",
        "    BatchNormalization(),\n",
        "    Activation('relu'),\n",
        "    Conv2D(64, 3, padding='same', use_bias=False),\n",
        "    BatchNormalization(),\n",
        "    Activation('relu'),\n",
        "    MaxPool2D(2),\n",
        "\n",
        "    Conv2D(128, 3, padding='same', use_bias=False),\n",
        "    BatchNormalization(),\n",
        "    Activation('relu'),\n",
        "    Conv2D(128, 3, padding='same', use_bias=False),\n",
        "    BatchNormalization(),\n",
        "    Activation('relu'),\n",
        "    MaxPool2D(2),\n",
        "    Dropout(0.2),\n",
        "\n",
        "    Conv2D(256, 3, padding='same', use_bias=False),\n",
        "    BatchNormalization(),\n",
        "    Activation('relu'),\n",
        "    Conv2D(256, 3, padding='same', use_bias=False),\n",
        "    BatchNormalization(),\n",
        "    Activation('relu'),\n",
        "    MaxPool2D(2),\n",
        "    Dropout(0.3),\n",
        "\n",
        "\n",
        "    GlobalAveragePooling2D(),\n",
        "    Dropout(0.5),\n",
        "    Dense(1, activation='sigmoid')\n",
        "])\n",
        "\n",
        "model_2.compile(\n",
        "    optimizer=AdamW(),\n",
        "    loss=BinaryCrossentropy(),\n",
        "    metrics=[\n",
        "        'accuracy',\n",
        "        tf.keras.metrics.Precision(name='precision'),\n",
        "        tf.keras.metrics.Recall(name='recall'),\n",
        "        tf.keras.metrics.F1Score(name='f1_score', threshold=0.5)\n",
        "    ]\n",
        ")\n",
        "\n",
        "model_2.summary()\n",
        "\n",
        "model_2_callbacks = create_callbacks(\"model_2\")"
      ],
      "metadata": {
        "colab": {
          "base_uri": "https://localhost:8080/",
          "height": 1000
        },
        "id": "mrAvyC3jG02a",
        "outputId": "9c171918-68bd-4144-d83d-8b76aba185d3"
      },
      "execution_count": 14,
      "outputs": [
        {
          "output_type": "display_data",
          "data": {
            "text/plain": [
              "\u001b[1mModel: \"sequential_2\"\u001b[0m\n"
            ],
            "text/html": [
              "<pre style=\"white-space:pre;overflow-x:auto;line-height:normal;font-family:Menlo,'DejaVu Sans Mono',consolas,'Courier New',monospace\"><span style=\"font-weight: bold\">Model: \"sequential_2\"</span>\n",
              "</pre>\n"
            ]
          },
          "metadata": {}
        },
        {
          "output_type": "display_data",
          "data": {
            "text/plain": [
              "┏━━━━━━━━━━━━━━━━━━━━━━━━━━━━━━━━━┳━━━━━━━━━━━━━━━━━━━━━━━━┳━━━━━━━━━━━━━━━┓\n",
              "┃\u001b[1m \u001b[0m\u001b[1mLayer (type)                   \u001b[0m\u001b[1m \u001b[0m┃\u001b[1m \u001b[0m\u001b[1mOutput Shape          \u001b[0m\u001b[1m \u001b[0m┃\u001b[1m \u001b[0m\u001b[1m      Param #\u001b[0m\u001b[1m \u001b[0m┃\n",
              "┡━━━━━━━━━━━━━━━━━━━━━━━━━━━━━━━━━╇━━━━━━━━━━━━━━━━━━━━━━━━╇━━━━━━━━━━━━━━━┩\n",
              "│ conv2d_6 (\u001b[38;5;33mConv2D\u001b[0m)               │ ?                      │   \u001b[38;5;34m0\u001b[0m (unbuilt) │\n",
              "├─────────────────────────────────┼────────────────────────┼───────────────┤\n",
              "│ batch_normalization_7           │ ?                      │   \u001b[38;5;34m0\u001b[0m (unbuilt) │\n",
              "│ (\u001b[38;5;33mBatchNormalization\u001b[0m)            │                        │               │\n",
              "├─────────────────────────────────┼────────────────────────┼───────────────┤\n",
              "│ activation_7 (\u001b[38;5;33mActivation\u001b[0m)       │ ?                      │             \u001b[38;5;34m0\u001b[0m │\n",
              "├─────────────────────────────────┼────────────────────────┼───────────────┤\n",
              "│ conv2d_7 (\u001b[38;5;33mConv2D\u001b[0m)               │ ?                      │   \u001b[38;5;34m0\u001b[0m (unbuilt) │\n",
              "├─────────────────────────────────┼────────────────────────┼───────────────┤\n",
              "│ batch_normalization_8           │ ?                      │   \u001b[38;5;34m0\u001b[0m (unbuilt) │\n",
              "│ (\u001b[38;5;33mBatchNormalization\u001b[0m)            │                        │               │\n",
              "├─────────────────────────────────┼────────────────────────┼───────────────┤\n",
              "│ activation_8 (\u001b[38;5;33mActivation\u001b[0m)       │ ?                      │             \u001b[38;5;34m0\u001b[0m │\n",
              "├─────────────────────────────────┼────────────────────────┼───────────────┤\n",
              "│ max_pooling2d_3 (\u001b[38;5;33mMaxPooling2D\u001b[0m)  │ ?                      │             \u001b[38;5;34m0\u001b[0m │\n",
              "├─────────────────────────────────┼────────────────────────┼───────────────┤\n",
              "│ conv2d_8 (\u001b[38;5;33mConv2D\u001b[0m)               │ ?                      │   \u001b[38;5;34m0\u001b[0m (unbuilt) │\n",
              "├─────────────────────────────────┼────────────────────────┼───────────────┤\n",
              "│ batch_normalization_9           │ ?                      │   \u001b[38;5;34m0\u001b[0m (unbuilt) │\n",
              "│ (\u001b[38;5;33mBatchNormalization\u001b[0m)            │                        │               │\n",
              "├─────────────────────────────────┼────────────────────────┼───────────────┤\n",
              "│ activation_9 (\u001b[38;5;33mActivation\u001b[0m)       │ ?                      │             \u001b[38;5;34m0\u001b[0m │\n",
              "├─────────────────────────────────┼────────────────────────┼───────────────┤\n",
              "│ conv2d_9 (\u001b[38;5;33mConv2D\u001b[0m)               │ ?                      │   \u001b[38;5;34m0\u001b[0m (unbuilt) │\n",
              "├─────────────────────────────────┼────────────────────────┼───────────────┤\n",
              "│ batch_normalization_10          │ ?                      │   \u001b[38;5;34m0\u001b[0m (unbuilt) │\n",
              "│ (\u001b[38;5;33mBatchNormalization\u001b[0m)            │                        │               │\n",
              "├─────────────────────────────────┼────────────────────────┼───────────────┤\n",
              "│ activation_10 (\u001b[38;5;33mActivation\u001b[0m)      │ ?                      │             \u001b[38;5;34m0\u001b[0m │\n",
              "├─────────────────────────────────┼────────────────────────┼───────────────┤\n",
              "│ max_pooling2d_4 (\u001b[38;5;33mMaxPooling2D\u001b[0m)  │ ?                      │             \u001b[38;5;34m0\u001b[0m │\n",
              "├─────────────────────────────────┼────────────────────────┼───────────────┤\n",
              "│ dropout_3 (\u001b[38;5;33mDropout\u001b[0m)             │ ?                      │             \u001b[38;5;34m0\u001b[0m │\n",
              "├─────────────────────────────────┼────────────────────────┼───────────────┤\n",
              "│ conv2d_10 (\u001b[38;5;33mConv2D\u001b[0m)              │ ?                      │   \u001b[38;5;34m0\u001b[0m (unbuilt) │\n",
              "├─────────────────────────────────┼────────────────────────┼───────────────┤\n",
              "│ batch_normalization_11          │ ?                      │   \u001b[38;5;34m0\u001b[0m (unbuilt) │\n",
              "│ (\u001b[38;5;33mBatchNormalization\u001b[0m)            │                        │               │\n",
              "├─────────────────────────────────┼────────────────────────┼───────────────┤\n",
              "│ activation_11 (\u001b[38;5;33mActivation\u001b[0m)      │ ?                      │             \u001b[38;5;34m0\u001b[0m │\n",
              "├─────────────────────────────────┼────────────────────────┼───────────────┤\n",
              "│ conv2d_11 (\u001b[38;5;33mConv2D\u001b[0m)              │ ?                      │   \u001b[38;5;34m0\u001b[0m (unbuilt) │\n",
              "├─────────────────────────────────┼────────────────────────┼───────────────┤\n",
              "│ batch_normalization_12          │ ?                      │   \u001b[38;5;34m0\u001b[0m (unbuilt) │\n",
              "│ (\u001b[38;5;33mBatchNormalization\u001b[0m)            │                        │               │\n",
              "├─────────────────────────────────┼────────────────────────┼───────────────┤\n",
              "│ activation_12 (\u001b[38;5;33mActivation\u001b[0m)      │ ?                      │             \u001b[38;5;34m0\u001b[0m │\n",
              "├─────────────────────────────────┼────────────────────────┼───────────────┤\n",
              "│ max_pooling2d_5 (\u001b[38;5;33mMaxPooling2D\u001b[0m)  │ ?                      │             \u001b[38;5;34m0\u001b[0m │\n",
              "├─────────────────────────────────┼────────────────────────┼───────────────┤\n",
              "│ dropout_4 (\u001b[38;5;33mDropout\u001b[0m)             │ ?                      │             \u001b[38;5;34m0\u001b[0m │\n",
              "├─────────────────────────────────┼────────────────────────┼───────────────┤\n",
              "│ global_average_pooling2d        │ ?                      │             \u001b[38;5;34m0\u001b[0m │\n",
              "│ (\u001b[38;5;33mGlobalAveragePooling2D\u001b[0m)        │                        │               │\n",
              "├─────────────────────────────────┼────────────────────────┼───────────────┤\n",
              "│ dropout_5 (\u001b[38;5;33mDropout\u001b[0m)             │ ?                      │             \u001b[38;5;34m0\u001b[0m │\n",
              "├─────────────────────────────────┼────────────────────────┼───────────────┤\n",
              "│ dense_2 (\u001b[38;5;33mDense\u001b[0m)                 │ ?                      │   \u001b[38;5;34m0\u001b[0m (unbuilt) │\n",
              "└─────────────────────────────────┴────────────────────────┴───────────────┘\n"
            ],
            "text/html": [
              "<pre style=\"white-space:pre;overflow-x:auto;line-height:normal;font-family:Menlo,'DejaVu Sans Mono',consolas,'Courier New',monospace\">┏━━━━━━━━━━━━━━━━━━━━━━━━━━━━━━━━━┳━━━━━━━━━━━━━━━━━━━━━━━━┳━━━━━━━━━━━━━━━┓\n",
              "┃<span style=\"font-weight: bold\"> Layer (type)                    </span>┃<span style=\"font-weight: bold\"> Output Shape           </span>┃<span style=\"font-weight: bold\">       Param # </span>┃\n",
              "┡━━━━━━━━━━━━━━━━━━━━━━━━━━━━━━━━━╇━━━━━━━━━━━━━━━━━━━━━━━━╇━━━━━━━━━━━━━━━┩\n",
              "│ conv2d_6 (<span style=\"color: #0087ff; text-decoration-color: #0087ff\">Conv2D</span>)               │ ?                      │   <span style=\"color: #00af00; text-decoration-color: #00af00\">0</span> (unbuilt) │\n",
              "├─────────────────────────────────┼────────────────────────┼───────────────┤\n",
              "│ batch_normalization_7           │ ?                      │   <span style=\"color: #00af00; text-decoration-color: #00af00\">0</span> (unbuilt) │\n",
              "│ (<span style=\"color: #0087ff; text-decoration-color: #0087ff\">BatchNormalization</span>)            │                        │               │\n",
              "├─────────────────────────────────┼────────────────────────┼───────────────┤\n",
              "│ activation_7 (<span style=\"color: #0087ff; text-decoration-color: #0087ff\">Activation</span>)       │ ?                      │             <span style=\"color: #00af00; text-decoration-color: #00af00\">0</span> │\n",
              "├─────────────────────────────────┼────────────────────────┼───────────────┤\n",
              "│ conv2d_7 (<span style=\"color: #0087ff; text-decoration-color: #0087ff\">Conv2D</span>)               │ ?                      │   <span style=\"color: #00af00; text-decoration-color: #00af00\">0</span> (unbuilt) │\n",
              "├─────────────────────────────────┼────────────────────────┼───────────────┤\n",
              "│ batch_normalization_8           │ ?                      │   <span style=\"color: #00af00; text-decoration-color: #00af00\">0</span> (unbuilt) │\n",
              "│ (<span style=\"color: #0087ff; text-decoration-color: #0087ff\">BatchNormalization</span>)            │                        │               │\n",
              "├─────────────────────────────────┼────────────────────────┼───────────────┤\n",
              "│ activation_8 (<span style=\"color: #0087ff; text-decoration-color: #0087ff\">Activation</span>)       │ ?                      │             <span style=\"color: #00af00; text-decoration-color: #00af00\">0</span> │\n",
              "├─────────────────────────────────┼────────────────────────┼───────────────┤\n",
              "│ max_pooling2d_3 (<span style=\"color: #0087ff; text-decoration-color: #0087ff\">MaxPooling2D</span>)  │ ?                      │             <span style=\"color: #00af00; text-decoration-color: #00af00\">0</span> │\n",
              "├─────────────────────────────────┼────────────────────────┼───────────────┤\n",
              "│ conv2d_8 (<span style=\"color: #0087ff; text-decoration-color: #0087ff\">Conv2D</span>)               │ ?                      │   <span style=\"color: #00af00; text-decoration-color: #00af00\">0</span> (unbuilt) │\n",
              "├─────────────────────────────────┼────────────────────────┼───────────────┤\n",
              "│ batch_normalization_9           │ ?                      │   <span style=\"color: #00af00; text-decoration-color: #00af00\">0</span> (unbuilt) │\n",
              "│ (<span style=\"color: #0087ff; text-decoration-color: #0087ff\">BatchNormalization</span>)            │                        │               │\n",
              "├─────────────────────────────────┼────────────────────────┼───────────────┤\n",
              "│ activation_9 (<span style=\"color: #0087ff; text-decoration-color: #0087ff\">Activation</span>)       │ ?                      │             <span style=\"color: #00af00; text-decoration-color: #00af00\">0</span> │\n",
              "├─────────────────────────────────┼────────────────────────┼───────────────┤\n",
              "│ conv2d_9 (<span style=\"color: #0087ff; text-decoration-color: #0087ff\">Conv2D</span>)               │ ?                      │   <span style=\"color: #00af00; text-decoration-color: #00af00\">0</span> (unbuilt) │\n",
              "├─────────────────────────────────┼────────────────────────┼───────────────┤\n",
              "│ batch_normalization_10          │ ?                      │   <span style=\"color: #00af00; text-decoration-color: #00af00\">0</span> (unbuilt) │\n",
              "│ (<span style=\"color: #0087ff; text-decoration-color: #0087ff\">BatchNormalization</span>)            │                        │               │\n",
              "├─────────────────────────────────┼────────────────────────┼───────────────┤\n",
              "│ activation_10 (<span style=\"color: #0087ff; text-decoration-color: #0087ff\">Activation</span>)      │ ?                      │             <span style=\"color: #00af00; text-decoration-color: #00af00\">0</span> │\n",
              "├─────────────────────────────────┼────────────────────────┼───────────────┤\n",
              "│ max_pooling2d_4 (<span style=\"color: #0087ff; text-decoration-color: #0087ff\">MaxPooling2D</span>)  │ ?                      │             <span style=\"color: #00af00; text-decoration-color: #00af00\">0</span> │\n",
              "├─────────────────────────────────┼────────────────────────┼───────────────┤\n",
              "│ dropout_3 (<span style=\"color: #0087ff; text-decoration-color: #0087ff\">Dropout</span>)             │ ?                      │             <span style=\"color: #00af00; text-decoration-color: #00af00\">0</span> │\n",
              "├─────────────────────────────────┼────────────────────────┼───────────────┤\n",
              "│ conv2d_10 (<span style=\"color: #0087ff; text-decoration-color: #0087ff\">Conv2D</span>)              │ ?                      │   <span style=\"color: #00af00; text-decoration-color: #00af00\">0</span> (unbuilt) │\n",
              "├─────────────────────────────────┼────────────────────────┼───────────────┤\n",
              "│ batch_normalization_11          │ ?                      │   <span style=\"color: #00af00; text-decoration-color: #00af00\">0</span> (unbuilt) │\n",
              "│ (<span style=\"color: #0087ff; text-decoration-color: #0087ff\">BatchNormalization</span>)            │                        │               │\n",
              "├─────────────────────────────────┼────────────────────────┼───────────────┤\n",
              "│ activation_11 (<span style=\"color: #0087ff; text-decoration-color: #0087ff\">Activation</span>)      │ ?                      │             <span style=\"color: #00af00; text-decoration-color: #00af00\">0</span> │\n",
              "├─────────────────────────────────┼────────────────────────┼───────────────┤\n",
              "│ conv2d_11 (<span style=\"color: #0087ff; text-decoration-color: #0087ff\">Conv2D</span>)              │ ?                      │   <span style=\"color: #00af00; text-decoration-color: #00af00\">0</span> (unbuilt) │\n",
              "├─────────────────────────────────┼────────────────────────┼───────────────┤\n",
              "│ batch_normalization_12          │ ?                      │   <span style=\"color: #00af00; text-decoration-color: #00af00\">0</span> (unbuilt) │\n",
              "│ (<span style=\"color: #0087ff; text-decoration-color: #0087ff\">BatchNormalization</span>)            │                        │               │\n",
              "├─────────────────────────────────┼────────────────────────┼───────────────┤\n",
              "│ activation_12 (<span style=\"color: #0087ff; text-decoration-color: #0087ff\">Activation</span>)      │ ?                      │             <span style=\"color: #00af00; text-decoration-color: #00af00\">0</span> │\n",
              "├─────────────────────────────────┼────────────────────────┼───────────────┤\n",
              "│ max_pooling2d_5 (<span style=\"color: #0087ff; text-decoration-color: #0087ff\">MaxPooling2D</span>)  │ ?                      │             <span style=\"color: #00af00; text-decoration-color: #00af00\">0</span> │\n",
              "├─────────────────────────────────┼────────────────────────┼───────────────┤\n",
              "│ dropout_4 (<span style=\"color: #0087ff; text-decoration-color: #0087ff\">Dropout</span>)             │ ?                      │             <span style=\"color: #00af00; text-decoration-color: #00af00\">0</span> │\n",
              "├─────────────────────────────────┼────────────────────────┼───────────────┤\n",
              "│ global_average_pooling2d        │ ?                      │             <span style=\"color: #00af00; text-decoration-color: #00af00\">0</span> │\n",
              "│ (<span style=\"color: #0087ff; text-decoration-color: #0087ff\">GlobalAveragePooling2D</span>)        │                        │               │\n",
              "├─────────────────────────────────┼────────────────────────┼───────────────┤\n",
              "│ dropout_5 (<span style=\"color: #0087ff; text-decoration-color: #0087ff\">Dropout</span>)             │ ?                      │             <span style=\"color: #00af00; text-decoration-color: #00af00\">0</span> │\n",
              "├─────────────────────────────────┼────────────────────────┼───────────────┤\n",
              "│ dense_2 (<span style=\"color: #0087ff; text-decoration-color: #0087ff\">Dense</span>)                 │ ?                      │   <span style=\"color: #00af00; text-decoration-color: #00af00\">0</span> (unbuilt) │\n",
              "└─────────────────────────────────┴────────────────────────┴───────────────┘\n",
              "</pre>\n"
            ]
          },
          "metadata": {}
        },
        {
          "output_type": "display_data",
          "data": {
            "text/plain": [
              "\u001b[1m Total params: \u001b[0m\u001b[38;5;34m0\u001b[0m (0.00 B)\n"
            ],
            "text/html": [
              "<pre style=\"white-space:pre;overflow-x:auto;line-height:normal;font-family:Menlo,'DejaVu Sans Mono',consolas,'Courier New',monospace\"><span style=\"font-weight: bold\"> Total params: </span><span style=\"color: #00af00; text-decoration-color: #00af00\">0</span> (0.00 B)\n",
              "</pre>\n"
            ]
          },
          "metadata": {}
        },
        {
          "output_type": "display_data",
          "data": {
            "text/plain": [
              "\u001b[1m Trainable params: \u001b[0m\u001b[38;5;34m0\u001b[0m (0.00 B)\n"
            ],
            "text/html": [
              "<pre style=\"white-space:pre;overflow-x:auto;line-height:normal;font-family:Menlo,'DejaVu Sans Mono',consolas,'Courier New',monospace\"><span style=\"font-weight: bold\"> Trainable params: </span><span style=\"color: #00af00; text-decoration-color: #00af00\">0</span> (0.00 B)\n",
              "</pre>\n"
            ]
          },
          "metadata": {}
        },
        {
          "output_type": "display_data",
          "data": {
            "text/plain": [
              "\u001b[1m Non-trainable params: \u001b[0m\u001b[38;5;34m0\u001b[0m (0.00 B)\n"
            ],
            "text/html": [
              "<pre style=\"white-space:pre;overflow-x:auto;line-height:normal;font-family:Menlo,'DejaVu Sans Mono',consolas,'Courier New',monospace\"><span style=\"font-weight: bold\"> Non-trainable params: </span><span style=\"color: #00af00; text-decoration-color: #00af00\">0</span> (0.00 B)\n",
              "</pre>\n"
            ]
          },
          "metadata": {}
        }
      ]
    },
    {
      "cell_type": "code",
      "source": [
        "model_2.fit(train_data, epochs=25, validation_data=test_data, class_weight=class_weights_dict, callbacks=model_2_callbacks)"
      ],
      "metadata": {
        "colab": {
          "base_uri": "https://localhost:8080/"
        },
        "id": "e-lRj46eHaD5",
        "outputId": "3a485134-a3f9-4bf2-a00e-c9f375ffc94e"
      },
      "execution_count": 15,
      "outputs": [
        {
          "output_type": "stream",
          "name": "stdout",
          "text": [
            "Epoch 1/25\n",
            "\u001b[1m131/131\u001b[0m \u001b[32m━━━━━━━━━━━━━━━━━━━━\u001b[0m\u001b[37m\u001b[0m \u001b[1m0s\u001b[0m 149ms/step - accuracy: 0.8099 - f1_score: 0.8625 - loss: 0.4866 - precision: 0.9258 - recall: 0.8075\n",
            "Epoch 1: val_loss improved from inf to 1.81958, saving model to best_model_2.keras\n",
            "\u001b[1m131/131\u001b[0m \u001b[32m━━━━━━━━━━━━━━━━━━━━\u001b[0m\u001b[37m\u001b[0m \u001b[1m33s\u001b[0m 170ms/step - accuracy: 0.8100 - f1_score: 0.8626 - loss: 0.4862 - precision: 0.9259 - recall: 0.8076 - val_accuracy: 0.6250 - val_f1_score: 0.7692 - val_loss: 1.8196 - val_precision: 0.6250 - val_recall: 1.0000 - learning_rate: 0.0010\n",
            "Epoch 2/25\n",
            "\u001b[1m131/131\u001b[0m \u001b[32m━━━━━━━━━━━━━━━━━━━━\u001b[0m\u001b[37m\u001b[0m \u001b[1m0s\u001b[0m 152ms/step - accuracy: 0.8604 - f1_score: 0.9000 - loss: 0.3359 - precision: 0.9557 - recall: 0.8505\n",
            "Epoch 2: val_loss improved from 1.81958 to 0.77853, saving model to best_model_2.keras\n",
            "\u001b[1m131/131\u001b[0m \u001b[32m━━━━━━━━━━━━━━━━━━━━\u001b[0m\u001b[37m\u001b[0m \u001b[1m21s\u001b[0m 159ms/step - accuracy: 0.8604 - f1_score: 0.9000 - loss: 0.3361 - precision: 0.9557 - recall: 0.8504 - val_accuracy: 0.6250 - val_f1_score: 0.7692 - val_loss: 0.7785 - val_precision: 0.6250 - val_recall: 1.0000 - learning_rate: 0.0010\n",
            "Epoch 3/25\n",
            "\u001b[1m131/131\u001b[0m \u001b[32m━━━━━━━━━━━━━━━━━━━━\u001b[0m\u001b[37m\u001b[0m \u001b[1m0s\u001b[0m 149ms/step - accuracy: 0.8627 - f1_score: 0.9018 - loss: 0.3086 - precision: 0.9564 - recall: 0.8531\n",
            "Epoch 3: val_loss did not improve from 0.77853\n",
            "\u001b[1m131/131\u001b[0m \u001b[32m━━━━━━━━━━━━━━━━━━━━\u001b[0m\u001b[37m\u001b[0m \u001b[1m41s\u001b[0m 156ms/step - accuracy: 0.8626 - f1_score: 0.9017 - loss: 0.3088 - precision: 0.9564 - recall: 0.8530 - val_accuracy: 0.6282 - val_f1_score: 0.7708 - val_loss: 1.1833 - val_precision: 0.6270 - val_recall: 1.0000 - learning_rate: 0.0010\n",
            "Epoch 4/25\n",
            "\u001b[1m131/131\u001b[0m \u001b[32m━━━━━━━━━━━━━━━━━━━━\u001b[0m\u001b[37m\u001b[0m \u001b[1m0s\u001b[0m 151ms/step - accuracy: 0.8855 - f1_score: 0.9186 - loss: 0.2697 - precision: 0.9675 - recall: 0.8744\n",
            "Epoch 4: val_loss improved from 0.77853 to 0.44811, saving model to best_model_2.keras\n",
            "\u001b[1m131/131\u001b[0m \u001b[32m━━━━━━━━━━━━━━━━━━━━\u001b[0m\u001b[37m\u001b[0m \u001b[1m41s\u001b[0m 159ms/step - accuracy: 0.8855 - f1_score: 0.9185 - loss: 0.2699 - precision: 0.9674 - recall: 0.8744 - val_accuracy: 0.7901 - val_f1_score: 0.8486 - val_loss: 0.4481 - val_precision: 0.7726 - val_recall: 0.9410 - learning_rate: 0.0010\n",
            "Epoch 5/25\n",
            "\u001b[1m131/131\u001b[0m \u001b[32m━━━━━━━━━━━━━━━━━━━━\u001b[0m\u001b[37m\u001b[0m \u001b[1m0s\u001b[0m 150ms/step - accuracy: 0.8923 - f1_score: 0.9236 - loss: 0.2499 - precision: 0.9711 - recall: 0.8806\n",
            "Epoch 5: val_loss did not improve from 0.44811\n",
            "\u001b[1m131/131\u001b[0m \u001b[32m━━━━━━━━━━━━━━━━━━━━\u001b[0m\u001b[37m\u001b[0m \u001b[1m41s\u001b[0m 160ms/step - accuracy: 0.8922 - f1_score: 0.9235 - loss: 0.2501 - precision: 0.9710 - recall: 0.8805 - val_accuracy: 0.7788 - val_f1_score: 0.8480 - val_loss: 0.5921 - val_precision: 0.7432 - val_recall: 0.9872 - learning_rate: 0.0010\n",
            "Epoch 6/25\n",
            "\u001b[1m131/131\u001b[0m \u001b[32m━━━━━━━━━━━━━━━━━━━━\u001b[0m\u001b[37m\u001b[0m \u001b[1m0s\u001b[0m 151ms/step - accuracy: 0.8958 - f1_score: 0.9264 - loss: 0.2353 - precision: 0.9687 - recall: 0.8876\n",
            "Epoch 6: val_loss did not improve from 0.44811\n",
            "\u001b[1m131/131\u001b[0m \u001b[32m━━━━━━━━━━━━━━━━━━━━\u001b[0m\u001b[37m\u001b[0m \u001b[1m41s\u001b[0m 158ms/step - accuracy: 0.8957 - f1_score: 0.9263 - loss: 0.2355 - precision: 0.9686 - recall: 0.8876 - val_accuracy: 0.6651 - val_f1_score: 0.7882 - val_loss: 0.7245 - val_precision: 0.6516 - val_recall: 0.9974 - learning_rate: 0.0010\n",
            "Epoch 7/25\n",
            "\u001b[1m131/131\u001b[0m \u001b[32m━━━━━━━━━━━━━━━━━━━━\u001b[0m\u001b[37m\u001b[0m \u001b[1m0s\u001b[0m 150ms/step - accuracy: 0.9120 - f1_score: 0.9381 - loss: 0.2256 - precision: 0.9757 - recall: 0.9033\n",
            "Epoch 7: val_loss did not improve from 0.44811\n",
            "\u001b[1m131/131\u001b[0m \u001b[32m━━━━━━━━━━━━━━━━━━━━\u001b[0m\u001b[37m\u001b[0m \u001b[1m41s\u001b[0m 156ms/step - accuracy: 0.9119 - f1_score: 0.9380 - loss: 0.2257 - precision: 0.9757 - recall: 0.9032 - val_accuracy: 0.7853 - val_f1_score: 0.8442 - val_loss: 0.4494 - val_precision: 0.7723 - val_recall: 0.9308 - learning_rate: 0.0010\n",
            "Epoch 8/25\n",
            "\u001b[1m131/131\u001b[0m \u001b[32m━━━━━━━━━━━━━━━━━━━━\u001b[0m\u001b[37m\u001b[0m \u001b[1m0s\u001b[0m 151ms/step - accuracy: 0.9166 - f1_score: 0.9414 - loss: 0.1899 - precision: 0.9798 - recall: 0.9059\n",
            "Epoch 8: val_loss improved from 0.44811 to 0.28856, saving model to best_model_2.keras\n",
            "\u001b[1m131/131\u001b[0m \u001b[32m━━━━━━━━━━━━━━━━━━━━\u001b[0m\u001b[37m\u001b[0m \u001b[1m41s\u001b[0m 158ms/step - accuracy: 0.9166 - f1_score: 0.9414 - loss: 0.1899 - precision: 0.9798 - recall: 0.9059 - val_accuracy: 0.8814 - val_f1_score: 0.9061 - val_loss: 0.2886 - val_precision: 0.8970 - val_recall: 0.9154 - learning_rate: 2.0000e-04\n",
            "Epoch 9/25\n",
            "\u001b[1m131/131\u001b[0m \u001b[32m━━━━━━━━━━━━━━━━━━━━\u001b[0m\u001b[37m\u001b[0m \u001b[1m0s\u001b[0m 150ms/step - accuracy: 0.9278 - f1_score: 0.9495 - loss: 0.1709 - precision: 0.9817 - recall: 0.9194\n",
            "Epoch 9: val_loss did not improve from 0.28856\n",
            "\u001b[1m131/131\u001b[0m \u001b[32m━━━━━━━━━━━━━━━━━━━━\u001b[0m\u001b[37m\u001b[0m \u001b[1m41s\u001b[0m 156ms/step - accuracy: 0.9278 - f1_score: 0.9495 - loss: 0.1710 - precision: 0.9817 - recall: 0.9193 - val_accuracy: 0.8638 - val_f1_score: 0.8987 - val_loss: 0.3488 - val_precision: 0.8396 - val_recall: 0.9667 - learning_rate: 2.0000e-04\n",
            "Epoch 10/25\n",
            "\u001b[1m131/131\u001b[0m \u001b[32m━━━━━━━━━━━━━━━━━━━━\u001b[0m\u001b[37m\u001b[0m \u001b[1m0s\u001b[0m 151ms/step - accuracy: 0.9236 - f1_score: 0.9465 - loss: 0.1675 - precision: 0.9808 - recall: 0.9145\n",
            "Epoch 10: val_loss did not improve from 0.28856\n",
            "\u001b[1m131/131\u001b[0m \u001b[32m━━━━━━━━━━━━━━━━━━━━\u001b[0m\u001b[37m\u001b[0m \u001b[1m42s\u001b[0m 161ms/step - accuracy: 0.9236 - f1_score: 0.9465 - loss: 0.1676 - precision: 0.9808 - recall: 0.9146 - val_accuracy: 0.8109 - val_f1_score: 0.8668 - val_loss: 0.4478 - val_precision: 0.7742 - val_recall: 0.9846 - learning_rate: 2.0000e-04\n",
            "Epoch 11/25\n",
            "\u001b[1m131/131\u001b[0m \u001b[32m━━━━━━━━━━━━━━━━━━━━\u001b[0m\u001b[37m\u001b[0m \u001b[1m0s\u001b[0m 152ms/step - accuracy: 0.9305 - f1_score: 0.9513 - loss: 0.1625 - precision: 0.9854 - recall: 0.9196\n",
            "Epoch 11: val_loss did not improve from 0.28856\n",
            "\u001b[1m131/131\u001b[0m \u001b[32m━━━━━━━━━━━━━━━━━━━━\u001b[0m\u001b[37m\u001b[0m \u001b[1m21s\u001b[0m 159ms/step - accuracy: 0.9304 - f1_score: 0.9513 - loss: 0.1626 - precision: 0.9853 - recall: 0.9196 - val_accuracy: 0.8638 - val_f1_score: 0.8989 - val_loss: 0.3836 - val_precision: 0.8381 - val_recall: 0.9692 - learning_rate: 2.0000e-04\n",
            "Epoch 12/25\n",
            "\u001b[1m131/131\u001b[0m \u001b[32m━━━━━━━━━━━━━━━━━━━━\u001b[0m\u001b[37m\u001b[0m \u001b[1m0s\u001b[0m 149ms/step - accuracy: 0.9345 - f1_score: 0.9542 - loss: 0.1535 - precision: 0.9876 - recall: 0.9230\n",
            "Epoch 12: val_loss did not improve from 0.28856\n",
            "\u001b[1m131/131\u001b[0m \u001b[32m━━━━━━━━━━━━━━━━━━━━\u001b[0m\u001b[37m\u001b[0m \u001b[1m21s\u001b[0m 160ms/step - accuracy: 0.9345 - f1_score: 0.9542 - loss: 0.1535 - precision: 0.9875 - recall: 0.9230 - val_accuracy: 0.7564 - val_f1_score: 0.8366 - val_loss: 0.5624 - val_precision: 0.7204 - val_recall: 0.9974 - learning_rate: 4.0000e-05\n",
            "Epoch 13/25\n",
            "\u001b[1m131/131\u001b[0m \u001b[32m━━━━━━━━━━━━━━━━━━━━\u001b[0m\u001b[37m\u001b[0m \u001b[1m0s\u001b[0m 148ms/step - accuracy: 0.9391 - f1_score: 0.9576 - loss: 0.1483 - precision: 0.9869 - recall: 0.9300\n",
            "Epoch 13: val_loss did not improve from 0.28856\n",
            "\u001b[1m131/131\u001b[0m \u001b[32m━━━━━━━━━━━━━━━━━━━━\u001b[0m\u001b[37m\u001b[0m \u001b[1m40s\u001b[0m 155ms/step - accuracy: 0.9391 - f1_score: 0.9576 - loss: 0.1483 - precision: 0.9869 - recall: 0.9300 - val_accuracy: 0.8205 - val_f1_score: 0.8730 - val_loss: 0.4331 - val_precision: 0.7825 - val_recall: 0.9872 - learning_rate: 4.0000e-05\n",
            "Epoch 14/25\n",
            "\u001b[1m131/131\u001b[0m \u001b[32m━━━━━━━━━━━━━━━━━━━━\u001b[0m\u001b[37m\u001b[0m \u001b[1m0s\u001b[0m 152ms/step - accuracy: 0.9396 - f1_score: 0.9579 - loss: 0.1356 - precision: 0.9885 - recall: 0.9291\n",
            "Epoch 14: val_loss did not improve from 0.28856\n",
            "\u001b[1m131/131\u001b[0m \u001b[32m━━━━━━━━━━━━━━━━━━━━\u001b[0m\u001b[37m\u001b[0m \u001b[1m21s\u001b[0m 158ms/step - accuracy: 0.9396 - f1_score: 0.9579 - loss: 0.1357 - precision: 0.9885 - recall: 0.9291 - val_accuracy: 0.7356 - val_f1_score: 0.8250 - val_loss: 0.6155 - val_precision: 0.7034 - val_recall: 0.9974 - learning_rate: 4.0000e-05\n",
            "Epoch 15/25\n",
            "\u001b[1m131/131\u001b[0m \u001b[32m━━━━━━━━━━━━━━━━━━━━\u001b[0m\u001b[37m\u001b[0m \u001b[1m0s\u001b[0m 149ms/step - accuracy: 0.9419 - f1_score: 0.9596 - loss: 0.1431 - precision: 0.9859 - recall: 0.9347\n",
            "Epoch 15: val_loss did not improve from 0.28856\n",
            "\u001b[1m131/131\u001b[0m \u001b[32m━━━━━━━━━━━━━━━━━━━━\u001b[0m\u001b[37m\u001b[0m \u001b[1m41s\u001b[0m 159ms/step - accuracy: 0.9419 - f1_score: 0.9596 - loss: 0.1431 - precision: 0.9859 - recall: 0.9347 - val_accuracy: 0.7869 - val_f1_score: 0.8530 - val_loss: 0.5032 - val_precision: 0.7495 - val_recall: 0.9897 - learning_rate: 1.0000e-05\n",
            "Epoch 16/25\n",
            "\u001b[1m131/131\u001b[0m \u001b[32m━━━━━━━━━━━━━━━━━━━━\u001b[0m\u001b[37m\u001b[0m \u001b[1m0s\u001b[0m 152ms/step - accuracy: 0.9446 - f1_score: 0.9615 - loss: 0.1394 - precision: 0.9876 - recall: 0.9367\n",
            "Epoch 16: val_loss did not improve from 0.28856\n",
            "\u001b[1m131/131\u001b[0m \u001b[32m━━━━━━━━━━━━━━━━━━━━\u001b[0m\u001b[37m\u001b[0m \u001b[1m21s\u001b[0m 159ms/step - accuracy: 0.9445 - f1_score: 0.9615 - loss: 0.1394 - precision: 0.9876 - recall: 0.9367 - val_accuracy: 0.7821 - val_f1_score: 0.8502 - val_loss: 0.5130 - val_precision: 0.7452 - val_recall: 0.9897 - learning_rate: 1.0000e-05\n",
            "Epoch 17/25\n",
            "\u001b[1m131/131\u001b[0m \u001b[32m━━━━━━━━━━━━━━━━━━━━\u001b[0m\u001b[37m\u001b[0m \u001b[1m0s\u001b[0m 149ms/step - accuracy: 0.9440 - f1_score: 0.9610 - loss: 0.1333 - precision: 0.9897 - recall: 0.9340\n",
            "Epoch 17: val_loss did not improve from 0.28856\n",
            "\u001b[1m131/131\u001b[0m \u001b[32m━━━━━━━━━━━━━━━━━━━━\u001b[0m\u001b[37m\u001b[0m \u001b[1m41s\u001b[0m 156ms/step - accuracy: 0.9440 - f1_score: 0.9610 - loss: 0.1333 - precision: 0.9897 - recall: 0.9340 - val_accuracy: 0.7676 - val_f1_score: 0.8419 - val_loss: 0.5640 - val_precision: 0.7324 - val_recall: 0.9897 - learning_rate: 1.0000e-05\n",
            "Epoch 18/25\n",
            "\u001b[1m131/131\u001b[0m \u001b[32m━━━━━━━━━━━━━━━━━━━━\u001b[0m\u001b[37m\u001b[0m \u001b[1m0s\u001b[0m 152ms/step - accuracy: 0.9451 - f1_score: 0.9619 - loss: 0.1387 - precision: 0.9877 - recall: 0.9374\n",
            "Epoch 18: val_loss did not improve from 0.28856\n",
            "\u001b[1m131/131\u001b[0m \u001b[32m━━━━━━━━━━━━━━━━━━━━\u001b[0m\u001b[37m\u001b[0m \u001b[1m21s\u001b[0m 159ms/step - accuracy: 0.9451 - f1_score: 0.9619 - loss: 0.1387 - precision: 0.9877 - recall: 0.9374 - val_accuracy: 0.7804 - val_f1_score: 0.8493 - val_loss: 0.5289 - val_precision: 0.7437 - val_recall: 0.9897 - learning_rate: 1.0000e-05\n"
          ]
        },
        {
          "output_type": "execute_result",
          "data": {
            "text/plain": [
              "<keras.src.callbacks.history.History at 0x7d07cd3ff4d0>"
            ]
          },
          "metadata": {},
          "execution_count": 15
        }
      ]
    },
    {
      "cell_type": "code",
      "source": [
        "evaluate_best_model(\"model_2\")"
      ],
      "metadata": {
        "colab": {
          "base_uri": "https://localhost:8080/"
        },
        "id": "rBHAtRAeHcCd",
        "outputId": "8b059624-075f-4535-df26-976d3d2b5931"
      },
      "execution_count": 16,
      "outputs": [
        {
          "output_type": "stream",
          "name": "stdout",
          "text": [
            "\u001b[1m20/20\u001b[0m \u001b[32m━━━━━━━━━━━━━━━━━━━━\u001b[0m\u001b[37m\u001b[0m \u001b[1m3s\u001b[0m 77ms/step - accuracy: 0.8636 - f1_score: 0.5532 - loss: 0.3500 - precision: 0.5155 - recall: 0.6140\n",
            "Test Set Evaluation:\n",
            "Loss: 0.28856104612350464\n",
            "Accuracy: 0.8814102411270142\n",
            "Precision: 0.8969849348068237\n",
            "Recall: 0.9153845906257629\n",
            "F1-Score: 0.9060912728309631\n"
          ]
        }
      ]
    },
    {
      "cell_type": "code",
      "source": [
        "IMAGE_SIZE = (224, 224)\n",
        "\n",
        "train_data = tf.keras.utils.image_dataset_from_directory(\n",
        "    train_dir,\n",
        "    labels=\"inferred\",\n",
        "    label_mode=\"binary\",\n",
        "    image_size=IMAGE_SIZE,\n",
        "    interpolation=\"nearest\",\n",
        "    batch_size=BATCH_SIZE,\n",
        "    shuffle=True\n",
        ")\n",
        "\n",
        "valid_data = tf.keras.utils.image_dataset_from_directory(\n",
        "    valid_dir,\n",
        "    labels=\"inferred\",\n",
        "    label_mode=\"binary\",\n",
        "    image_size=IMAGE_SIZE,\n",
        "    interpolation=\"nearest\",\n",
        "    batch_size=BATCH_SIZE,\n",
        "    shuffle=False\n",
        ")\n",
        "\n",
        "test_data = tf.keras.utils.image_dataset_from_directory(\n",
        "    test_dir,\n",
        "    labels=\"inferred\",\n",
        "    label_mode=\"binary\",\n",
        "    image_size=IMAGE_SIZE,\n",
        "    interpolation=\"nearest\",\n",
        "    batch_size=BATCH_SIZE,\n",
        "    shuffle=False\n",
        ")"
      ],
      "metadata": {
        "colab": {
          "base_uri": "https://localhost:8080/"
        },
        "id": "1xzvaHa8RTfG",
        "outputId": "b04fc74b-0754-4ede-c4fe-a2fa7791dfeb"
      },
      "execution_count": 17,
      "outputs": [
        {
          "output_type": "stream",
          "name": "stdout",
          "text": [
            "Found 4192 files belonging to 2 classes.\n",
            "Found 1040 files belonging to 2 classes.\n",
            "Found 624 files belonging to 2 classes.\n"
          ]
        }
      ]
    },
    {
      "cell_type": "code",
      "source": [
        "from tensorflow.keras.applications import EfficientNetB0\n",
        "\n",
        "\n",
        "\n",
        "base_model = EfficientNetB0(\n",
        "    weights=\"imagenet\",\n",
        "    include_top=False,\n",
        "    input_shape=(*IMAGE_SIZE, 3)\n",
        ")\n",
        "\n",
        "base_model.trainable = False\n",
        "\n",
        "transfer_model_1 = Sequential([\n",
        "    base_model,\n",
        "    GlobalAveragePooling2D(),\n",
        "    Dropout(0.5),\n",
        "    Dense(1, activation=\"sigmoid\")\n",
        "])\n",
        "\n",
        "transfer_model_1.compile(\n",
        "    optimizer=AdamW(),\n",
        "    loss=BinaryCrossentropy(),\n",
        "    metrics=[\n",
        "        'accuracy',\n",
        "        tf.keras.metrics.Precision(name='precision'),\n",
        "        tf.keras.metrics.Recall(name='recall'),\n",
        "        tf.keras.metrics.F1Score(name='f1_score', threshold=0.5)\n",
        "    ]\n",
        ")\n",
        "\n",
        "\n",
        "transfer_model_1_callbacks = create_callbacks(\"transfer_model_1\")\n",
        "\n",
        "transfer_model_1.summary"
      ],
      "metadata": {
        "colab": {
          "base_uri": "https://localhost:8080/",
          "height": 240
        },
        "id": "_D1diz_2O0-w",
        "outputId": "53d0538f-ca5b-4a78-f53f-2dd09bd71c8c"
      },
      "execution_count": 18,
      "outputs": [
        {
          "output_type": "stream",
          "name": "stdout",
          "text": [
            "Downloading data from https://storage.googleapis.com/keras-applications/efficientnetb0_notop.h5\n",
            "\u001b[1m16705208/16705208\u001b[0m \u001b[32m━━━━━━━━━━━━━━━━━━━━\u001b[0m\u001b[37m\u001b[0m \u001b[1m2s\u001b[0m 0us/step\n"
          ]
        },
        {
          "output_type": "execute_result",
          "data": {
            "text/plain": [
              "<bound method Model.summary of <Sequential name=sequential_3, built=True>>"
            ],
            "text/html": [
              "<div style=\"max-width:800px; border: 1px solid var(--colab-border-color);\"><style>\n",
              "      pre.function-repr-contents {\n",
              "        overflow-x: auto;\n",
              "        padding: 8px 12px;\n",
              "        max-height: 500px;\n",
              "      }\n",
              "\n",
              "      pre.function-repr-contents.function-repr-contents-collapsed {\n",
              "        cursor: pointer;\n",
              "        max-height: 100px;\n",
              "      }\n",
              "    </style>\n",
              "    <pre style=\"white-space: initial; background:\n",
              "         var(--colab-secondary-surface-color); padding: 8px 12px;\n",
              "         border-bottom: 1px solid var(--colab-border-color);\"><b>keras.src.models.model.Model.summary</b><br/>def summary(line_length=None, positions=None, print_fn=None, expand_nested=False, show_trainable=False, layer_range=None)</pre><pre class=\"function-repr-contents function-repr-contents-collapsed\" style=\"\"><a class=\"filepath\" style=\"display:none\" href=\"#\">/usr/local/lib/python3.12/dist-packages/keras/src/models/model.py</a>Prints a string summary of the network.\n",
              "\n",
              "Args:\n",
              "    line_length: Total length of printed lines\n",
              "        (e.g. set this to adapt the display to different\n",
              "        terminal window sizes).\n",
              "    positions: Relative or absolute positions of log elements\n",
              "        in each line. If not provided, becomes\n",
              "        `[0.3, 0.6, 0.70, 1.]`. Defaults to `None`.\n",
              "    print_fn: Print function to use. By default, prints to `stdout`.\n",
              "        If `stdout` doesn&#x27;t work in your environment, change to `print`.\n",
              "        It will be called on each line of the summary.\n",
              "        You can set it to a custom function\n",
              "        in order to capture the string summary.\n",
              "    expand_nested: Whether to expand the nested models.\n",
              "        Defaults to `False`.\n",
              "    show_trainable: Whether to show if a layer is trainable.\n",
              "        Defaults to `False`.\n",
              "    layer_range: a list or tuple of 2 strings,\n",
              "        which is the starting layer name and ending layer name\n",
              "        (both inclusive) indicating the range of layers to be printed\n",
              "        in summary. It also accepts regex patterns instead of exact\n",
              "        names. In this case, the start predicate will be\n",
              "        the first element that matches `layer_range[0]`\n",
              "        and the end predicate will be the last element\n",
              "        that matches `layer_range[1]`.\n",
              "        By default `None` considers all layers of the model.\n",
              "\n",
              "Raises:\n",
              "    ValueError: if `summary()` is called before the model is built.</pre>\n",
              "      <script>\n",
              "      if (google.colab.kernel.accessAllowed && google.colab.files && google.colab.files.view) {\n",
              "        for (const element of document.querySelectorAll('.filepath')) {\n",
              "          element.style.display = 'block'\n",
              "          element.onclick = (event) => {\n",
              "            event.preventDefault();\n",
              "            event.stopPropagation();\n",
              "            google.colab.files.view(element.textContent, 218);\n",
              "          };\n",
              "        }\n",
              "      }\n",
              "      for (const element of document.querySelectorAll('.function-repr-contents')) {\n",
              "        element.onclick = (event) => {\n",
              "          event.preventDefault();\n",
              "          event.stopPropagation();\n",
              "          element.classList.toggle('function-repr-contents-collapsed');\n",
              "        };\n",
              "      }\n",
              "      </script>\n",
              "      </div>"
            ]
          },
          "metadata": {},
          "execution_count": 18
        }
      ]
    },
    {
      "cell_type": "code",
      "source": [
        "history = transfer_model_1.fit(train_data, epochs=25, validation_data=test_data, class_weight=class_weights_dict, callbacks=transfer_model_1_callbacks)"
      ],
      "metadata": {
        "colab": {
          "base_uri": "https://localhost:8080/"
        },
        "id": "9JIwwkZBRBC5",
        "outputId": "4ffcdc41-baf2-4fce-a35c-900d3d1936fd"
      },
      "execution_count": 19,
      "outputs": [
        {
          "output_type": "stream",
          "name": "stdout",
          "text": [
            "Epoch 1/25\n",
            "\u001b[1m131/131\u001b[0m \u001b[32m━━━━━━━━━━━━━━━━━━━━\u001b[0m\u001b[37m\u001b[0m \u001b[1m0s\u001b[0m 198ms/step - accuracy: 0.7203 - f1_score: 0.7922 - loss: 0.5318 - precision: 0.8826 - recall: 0.7198\n",
            "Epoch 1: val_loss improved from inf to 0.36029, saving model to best_transfer_model_1.keras\n",
            "\u001b[1m131/131\u001b[0m \u001b[32m━━━━━━━━━━━━━━━━━━━━\u001b[0m\u001b[37m\u001b[0m \u001b[1m77s\u001b[0m 359ms/step - accuracy: 0.7209 - f1_score: 0.7927 - loss: 0.5309 - precision: 0.8830 - recall: 0.7204 - val_accuracy: 0.8317 - val_f1_score: 0.8736 - val_loss: 0.3603 - val_precision: 0.8231 - val_recall: 0.9308 - learning_rate: 0.0010\n",
            "Epoch 2/25\n",
            "\u001b[1m131/131\u001b[0m \u001b[32m━━━━━━━━━━━━━━━━━━━━\u001b[0m\u001b[37m\u001b[0m \u001b[1m0s\u001b[0m 218ms/step - accuracy: 0.8802 - f1_score: 0.9150 - loss: 0.2793 - precision: 0.9692 - recall: 0.8665\n",
            "Epoch 2: val_loss improved from 0.36029 to 0.34152, saving model to best_transfer_model_1.keras\n",
            "\u001b[1m131/131\u001b[0m \u001b[32m━━━━━━━━━━━━━━━━━━━━\u001b[0m\u001b[37m\u001b[0m \u001b[1m34s\u001b[0m 263ms/step - accuracy: 0.8803 - f1_score: 0.9150 - loss: 0.2792 - precision: 0.9692 - recall: 0.8666 - val_accuracy: 0.8365 - val_f1_score: 0.8774 - val_loss: 0.3415 - val_precision: 0.8258 - val_recall: 0.9359 - learning_rate: 0.0010\n",
            "Epoch 3/25\n",
            "\u001b[1m131/131\u001b[0m \u001b[32m━━━━━━━━━━━━━━━━━━━━\u001b[0m\u001b[37m\u001b[0m \u001b[1m0s\u001b[0m 230ms/step - accuracy: 0.8972 - f1_score: 0.9279 - loss: 0.2445 - precision: 0.9724 - recall: 0.8873\n",
            "Epoch 3: val_loss improved from 0.34152 to 0.32448, saving model to best_transfer_model_1.keras\n",
            "\u001b[1m131/131\u001b[0m \u001b[32m━━━━━━━━━━━━━━━━━━━━\u001b[0m\u001b[37m\u001b[0m \u001b[1m36s\u001b[0m 274ms/step - accuracy: 0.8973 - f1_score: 0.9280 - loss: 0.2444 - precision: 0.9725 - recall: 0.8874 - val_accuracy: 0.8494 - val_f1_score: 0.8859 - val_loss: 0.3245 - val_precision: 0.8410 - val_recall: 0.9359 - learning_rate: 0.0010\n",
            "Epoch 4/25\n",
            "\u001b[1m131/131\u001b[0m \u001b[32m━━━━━━━━━━━━━━━━━━━━\u001b[0m\u001b[37m\u001b[0m \u001b[1m0s\u001b[0m 204ms/step - accuracy: 0.9053 - f1_score: 0.9340 - loss: 0.2167 - precision: 0.9771 - recall: 0.8945\n",
            "Epoch 4: val_loss did not improve from 0.32448\n",
            "\u001b[1m131/131\u001b[0m \u001b[32m━━━━━━━━━━━━━━━━━━━━\u001b[0m\u001b[37m\u001b[0m \u001b[1m30s\u001b[0m 230ms/step - accuracy: 0.9053 - f1_score: 0.9340 - loss: 0.2167 - precision: 0.9771 - recall: 0.8945 - val_accuracy: 0.8462 - val_f1_score: 0.8860 - val_loss: 0.3357 - val_precision: 0.8252 - val_recall: 0.9564 - learning_rate: 0.0010\n",
            "Epoch 5/25\n",
            "\u001b[1m131/131\u001b[0m \u001b[32m━━━━━━━━━━━━━━━━━━━━\u001b[0m\u001b[37m\u001b[0m \u001b[1m0s\u001b[0m 206ms/step - accuracy: 0.9143 - f1_score: 0.9407 - loss: 0.1922 - precision: 0.9784 - recall: 0.9059\n",
            "Epoch 5: val_loss did not improve from 0.32448\n",
            "\u001b[1m131/131\u001b[0m \u001b[32m━━━━━━━━━━━━━━━━━━━━\u001b[0m\u001b[37m\u001b[0m \u001b[1m31s\u001b[0m 235ms/step - accuracy: 0.9144 - f1_score: 0.9407 - loss: 0.1922 - precision: 0.9784 - recall: 0.9059 - val_accuracy: 0.8494 - val_f1_score: 0.8892 - val_loss: 0.3529 - val_precision: 0.8231 - val_recall: 0.9667 - learning_rate: 0.0010\n",
            "Epoch 6/25\n",
            "\u001b[1m131/131\u001b[0m \u001b[32m━━━━━━━━━━━━━━━━━━━━\u001b[0m\u001b[37m\u001b[0m \u001b[1m0s\u001b[0m 205ms/step - accuracy: 0.9213 - f1_score: 0.9458 - loss: 0.1865 - precision: 0.9790 - recall: 0.9149\n",
            "Epoch 6: val_loss did not improve from 0.32448\n",
            "\u001b[1m131/131\u001b[0m \u001b[32m━━━━━━━━━━━━━━━━━━━━\u001b[0m\u001b[37m\u001b[0m \u001b[1m30s\u001b[0m 231ms/step - accuracy: 0.9213 - f1_score: 0.9458 - loss: 0.1865 - precision: 0.9790 - recall: 0.9149 - val_accuracy: 0.8413 - val_f1_score: 0.8845 - val_loss: 0.3734 - val_precision: 0.8116 - val_recall: 0.9718 - learning_rate: 0.0010\n",
            "Epoch 7/25\n",
            "\u001b[1m131/131\u001b[0m \u001b[32m━━━━━━━━━━━━━━━━━━━━\u001b[0m\u001b[37m\u001b[0m \u001b[1m0s\u001b[0m 203ms/step - accuracy: 0.9221 - f1_score: 0.9460 - loss: 0.1856 - precision: 0.9758 - recall: 0.9181\n",
            "Epoch 7: val_loss did not improve from 0.32448\n",
            "\u001b[1m131/131\u001b[0m \u001b[32m━━━━━━━━━━━━━━━━━━━━\u001b[0m\u001b[37m\u001b[0m \u001b[1m32s\u001b[0m 242ms/step - accuracy: 0.9221 - f1_score: 0.9460 - loss: 0.1855 - precision: 0.9758 - recall: 0.9180 - val_accuracy: 0.8494 - val_f1_score: 0.8894 - val_loss: 0.3559 - val_precision: 0.8217 - val_recall: 0.9692 - learning_rate: 2.0000e-04\n",
            "Epoch 8/25\n",
            "\u001b[1m131/131\u001b[0m \u001b[32m━━━━━━━━━━━━━━━━━━━━\u001b[0m\u001b[37m\u001b[0m \u001b[1m0s\u001b[0m 212ms/step - accuracy: 0.9263 - f1_score: 0.9491 - loss: 0.1760 - precision: 0.9806 - recall: 0.9196\n",
            "Epoch 8: val_loss did not improve from 0.32448\n",
            "\u001b[1m131/131\u001b[0m \u001b[32m━━━━━━━━━━━━━━━━━━━━\u001b[0m\u001b[37m\u001b[0m \u001b[1m41s\u001b[0m 245ms/step - accuracy: 0.9263 - f1_score: 0.9491 - loss: 0.1760 - precision: 0.9806 - recall: 0.9195 - val_accuracy: 0.8542 - val_f1_score: 0.8926 - val_loss: 0.3511 - val_precision: 0.8271 - val_recall: 0.9692 - learning_rate: 2.0000e-04\n",
            "Epoch 9/25\n",
            "\u001b[1m131/131\u001b[0m \u001b[32m━━━━━━━━━━━━━━━━━━━━\u001b[0m\u001b[37m\u001b[0m \u001b[1m0s\u001b[0m 206ms/step - accuracy: 0.9261 - f1_score: 0.9490 - loss: 0.1617 - precision: 0.9822 - recall: 0.9179\n",
            "Epoch 9: val_loss did not improve from 0.32448\n",
            "\u001b[1m131/131\u001b[0m \u001b[32m━━━━━━━━━━━━━━━━━━━━\u001b[0m\u001b[37m\u001b[0m \u001b[1m32s\u001b[0m 245ms/step - accuracy: 0.9261 - f1_score: 0.9490 - loss: 0.1617 - precision: 0.9822 - recall: 0.9180 - val_accuracy: 0.8574 - val_f1_score: 0.8942 - val_loss: 0.3415 - val_precision: 0.8337 - val_recall: 0.9641 - learning_rate: 2.0000e-04\n",
            "Epoch 10/25\n",
            "\u001b[1m131/131\u001b[0m \u001b[32m━━━━━━━━━━━━━━━━━━━━\u001b[0m\u001b[37m\u001b[0m \u001b[1m0s\u001b[0m 206ms/step - accuracy: 0.9278 - f1_score: 0.9498 - loss: 0.1595 - precision: 0.9854 - recall: 0.9168\n",
            "Epoch 10: val_loss did not improve from 0.32448\n",
            "\u001b[1m131/131\u001b[0m \u001b[32m━━━━━━━━━━━━━━━━━━━━\u001b[0m\u001b[37m\u001b[0m \u001b[1m41s\u001b[0m 245ms/step - accuracy: 0.9278 - f1_score: 0.9498 - loss: 0.1596 - precision: 0.9854 - recall: 0.9168 - val_accuracy: 0.8558 - val_f1_score: 0.8934 - val_loss: 0.3468 - val_precision: 0.8304 - val_recall: 0.9667 - learning_rate: 4.0000e-05\n",
            "Epoch 11/25\n",
            "\u001b[1m131/131\u001b[0m \u001b[32m━━━━━━━━━━━━━━━━━━━━\u001b[0m\u001b[37m\u001b[0m \u001b[1m0s\u001b[0m 211ms/step - accuracy: 0.9361 - f1_score: 0.9558 - loss: 0.1659 - precision: 0.9892 - recall: 0.9247\n",
            "Epoch 11: val_loss did not improve from 0.32448\n",
            "\u001b[1m131/131\u001b[0m \u001b[32m━━━━━━━━━━━━━━━━━━━━\u001b[0m\u001b[37m\u001b[0m \u001b[1m42s\u001b[0m 251ms/step - accuracy: 0.9361 - f1_score: 0.9558 - loss: 0.1659 - precision: 0.9892 - recall: 0.9247 - val_accuracy: 0.8542 - val_f1_score: 0.8923 - val_loss: 0.3502 - val_precision: 0.8286 - val_recall: 0.9667 - learning_rate: 4.0000e-05\n",
            "Epoch 12/25\n",
            "\u001b[1m131/131\u001b[0m \u001b[32m━━━━━━━━━━━━━━━━━━━━\u001b[0m\u001b[37m\u001b[0m \u001b[1m0s\u001b[0m 205ms/step - accuracy: 0.9234 - f1_score: 0.9470 - loss: 0.1762 - precision: 0.9786 - recall: 0.9174\n",
            "Epoch 12: val_loss did not improve from 0.32448\n",
            "\u001b[1m131/131\u001b[0m \u001b[32m━━━━━━━━━━━━━━━━━━━━\u001b[0m\u001b[37m\u001b[0m \u001b[1m30s\u001b[0m 229ms/step - accuracy: 0.9234 - f1_score: 0.9470 - loss: 0.1762 - precision: 0.9786 - recall: 0.9174 - val_accuracy: 0.8542 - val_f1_score: 0.8926 - val_loss: 0.3526 - val_precision: 0.8271 - val_recall: 0.9692 - learning_rate: 4.0000e-05\n",
            "Epoch 13/25\n",
            "\u001b[1m131/131\u001b[0m \u001b[32m━━━━━━━━━━━━━━━━━━━━\u001b[0m\u001b[37m\u001b[0m \u001b[1m0s\u001b[0m 221ms/step - accuracy: 0.9353 - f1_score: 0.9555 - loss: 0.1695 - precision: 0.9818 - recall: 0.9306\n",
            "Epoch 13: val_loss did not improve from 0.32448\n",
            "\u001b[1m131/131\u001b[0m \u001b[32m━━━━━━━━━━━━━━━━━━━━\u001b[0m\u001b[37m\u001b[0m \u001b[1m32s\u001b[0m 245ms/step - accuracy: 0.9353 - f1_score: 0.9555 - loss: 0.1695 - precision: 0.9818 - recall: 0.9306 - val_accuracy: 0.8558 - val_f1_score: 0.8936 - val_loss: 0.3511 - val_precision: 0.8289 - val_recall: 0.9692 - learning_rate: 1.0000e-05\n"
          ]
        }
      ]
    },
    {
      "cell_type": "code",
      "source": [
        "evaluate_best_model(\"transfer_model_1\")"
      ],
      "metadata": {
        "colab": {
          "base_uri": "https://localhost:8080/"
        },
        "id": "iDnX0nNqTsP8",
        "outputId": "5e90f56a-3d30-41a6-a280-d8eda7857a67"
      },
      "execution_count": 20,
      "outputs": [
        {
          "output_type": "stream",
          "name": "stdout",
          "text": [
            "\u001b[1m20/20\u001b[0m \u001b[32m━━━━━━━━━━━━━━━━━━━━\u001b[0m\u001b[37m\u001b[0m \u001b[1m17s\u001b[0m 328ms/step - accuracy: 0.7888 - f1_score: 0.5159 - loss: 0.4486 - precision: 0.4576 - recall: 0.6176\n",
            "Test Set Evaluation:\n",
            "Loss: 0.3244757652282715\n",
            "Accuracy: 0.8493589758872986\n",
            "Precision: 0.8410138487815857\n",
            "Recall: 0.9358974099159241\n",
            "F1-Score: 0.8859223127365112\n"
          ]
        }
      ]
    },
    {
      "cell_type": "code",
      "source": [
        "best_transfer_model = tf.keras.models.load_model('best_transfer_model_1.keras')\n",
        "\n",
        "best_transfer_model.get_layer('efficientnetb0').trainable = True\n",
        "for layer in best_transfer_model.get_layer('efficientnetb0').layers[:-20]:\n",
        "    layer.trainable = False\n",
        "\n",
        "\n",
        "best_transfer_model.compile(\n",
        "    optimizer=AdamW(learning_rate=1e-5),\n",
        "    loss=BinaryCrossentropy(),\n",
        "    metrics=[\n",
        "        'accuracy',\n",
        "        tf.keras.metrics.Precision(name='precision'),\n",
        "        tf.keras.metrics.Recall(name='recall'),\n",
        "        tf.keras.metrics.F1Score(name='f1_score', threshold=0.5)\n",
        "    ]\n",
        ")"
      ],
      "metadata": {
        "id": "CzZy11neUE7w"
      },
      "execution_count": 21,
      "outputs": []
    },
    {
      "cell_type": "code",
      "source": [
        "initial_epochs = len(history.history['loss'])\n",
        "\n",
        "fine_tune_epochs = 10\n",
        "total_epochs = initial_epochs + fine_tune_epochs\n",
        "\n",
        "history_fine_tune = best_transfer_model.fit(\n",
        "    train_data,\n",
        "    epochs=total_epochs,\n",
        "    initial_epoch=history.epoch[-1],\n",
        "    validation_data=valid_data,\n",
        "    class_weight=class_weights_dict,\n",
        "    callbacks=create_callbacks(\"transfer_model_1_finetuned\")\n",
        ")"
      ],
      "metadata": {
        "colab": {
          "base_uri": "https://localhost:8080/"
        },
        "id": "KbsrX-N1Xbv6",
        "outputId": "65e470dc-73b5-4188-9619-7c4e6dfe2553"
      },
      "execution_count": 22,
      "outputs": [
        {
          "output_type": "stream",
          "name": "stdout",
          "text": [
            "Epoch 13/23\n",
            "\u001b[1m131/131\u001b[0m \u001b[32m━━━━━━━━━━━━━━━━━━━━\u001b[0m\u001b[37m\u001b[0m \u001b[1m0s\u001b[0m 195ms/step - accuracy: 0.8258 - f1_score: 0.8690 - loss: 0.3177 - precision: 0.9902 - recall: 0.7743\n",
            "Epoch 13: val_loss improved from inf to 0.27134, saving model to best_transfer_model_1_finetuned.keras\n",
            "\u001b[1m131/131\u001b[0m \u001b[32m━━━━━━━━━━━━━━━━━━━━\u001b[0m\u001b[37m\u001b[0m \u001b[1m77s\u001b[0m 375ms/step - accuracy: 0.8259 - f1_score: 0.8691 - loss: 0.3176 - precision: 0.9902 - recall: 0.7745 - val_accuracy: 0.9048 - val_f1_score: 0.9317 - val_loss: 0.2713 - val_precision: 0.9985 - val_recall: 0.8732 - learning_rate: 1.0000e-05\n",
            "Epoch 14/23\n",
            "\u001b[1m131/131\u001b[0m \u001b[32m━━━━━━━━━━━━━━━━━━━━\u001b[0m\u001b[37m\u001b[0m \u001b[1m0s\u001b[0m 207ms/step - accuracy: 0.8716 - f1_score: 0.9068 - loss: 0.2533 - precision: 0.9945 - recall: 0.8337\n",
            "Epoch 14: val_loss improved from 0.27134 to 0.20698, saving model to best_transfer_model_1_finetuned.keras\n",
            "\u001b[1m131/131\u001b[0m \u001b[32m━━━━━━━━━━━━━━━━━━━━\u001b[0m\u001b[37m\u001b[0m \u001b[1m38s\u001b[0m 291ms/step - accuracy: 0.8717 - f1_score: 0.9069 - loss: 0.2532 - precision: 0.9944 - recall: 0.8339 - val_accuracy: 0.9413 - val_f1_score: 0.9591 - val_loss: 0.2070 - val_precision: 0.9958 - val_recall: 0.9250 - learning_rate: 1.0000e-05\n",
            "Epoch 15/23\n",
            "\u001b[1m131/131\u001b[0m \u001b[32m━━━━━━━━━━━━━━━━━━━━\u001b[0m\u001b[37m\u001b[0m \u001b[1m0s\u001b[0m 207ms/step - accuracy: 0.8946 - f1_score: 0.9249 - loss: 0.2325 - precision: 0.9848 - recall: 0.8720\n",
            "Epoch 15: val_loss improved from 0.20698 to 0.17308, saving model to best_transfer_model_1_finetuned.keras\n",
            "\u001b[1m131/131\u001b[0m \u001b[32m━━━━━━━━━━━━━━━━━━━━\u001b[0m\u001b[37m\u001b[0m \u001b[1m38s\u001b[0m 291ms/step - accuracy: 0.8947 - f1_score: 0.9250 - loss: 0.2324 - precision: 0.9848 - recall: 0.8721 - val_accuracy: 0.9606 - val_f1_score: 0.9729 - val_loss: 0.1731 - val_precision: 0.9946 - val_recall: 0.9521 - learning_rate: 1.0000e-05\n",
            "Epoch 16/23\n",
            "\u001b[1m131/131\u001b[0m \u001b[32m━━━━━━━━━━━━━━━━━━━━\u001b[0m\u001b[37m\u001b[0m \u001b[1m0s\u001b[0m 208ms/step - accuracy: 0.9131 - f1_score: 0.9393 - loss: 0.2027 - precision: 0.9843 - recall: 0.8982\n",
            "Epoch 16: val_loss improved from 0.17308 to 0.15028, saving model to best_transfer_model_1_finetuned.keras\n",
            "\u001b[1m131/131\u001b[0m \u001b[32m━━━━━━━━━━━━━━━━━━━━\u001b[0m\u001b[37m\u001b[0m \u001b[1m38s\u001b[0m 270ms/step - accuracy: 0.9131 - f1_score: 0.9393 - loss: 0.2027 - precision: 0.9844 - recall: 0.8982 - val_accuracy: 0.9615 - val_f1_score: 0.9736 - val_loss: 0.1503 - val_precision: 0.9919 - val_recall: 0.9560 - learning_rate: 1.0000e-05\n",
            "Epoch 17/23\n",
            "\u001b[1m131/131\u001b[0m \u001b[32m━━━━━━━━━━━━━━━━━━━━\u001b[0m\u001b[37m\u001b[0m \u001b[1m0s\u001b[0m 207ms/step - accuracy: 0.9232 - f1_score: 0.9467 - loss: 0.1884 - precision: 0.9871 - recall: 0.9097\n",
            "Epoch 17: val_loss improved from 0.15028 to 0.13466, saving model to best_transfer_model_1_finetuned.keras\n",
            "\u001b[1m131/131\u001b[0m \u001b[32m━━━━━━━━━━━━━━━━━━━━\u001b[0m\u001b[37m\u001b[0m \u001b[1m35s\u001b[0m 269ms/step - accuracy: 0.9232 - f1_score: 0.9468 - loss: 0.1884 - precision: 0.9871 - recall: 0.9097 - val_accuracy: 0.9654 - val_f1_score: 0.9763 - val_loss: 0.1347 - val_precision: 0.9920 - val_recall: 0.9612 - learning_rate: 1.0000e-05\n",
            "Epoch 18/23\n",
            "\u001b[1m131/131\u001b[0m \u001b[32m━━━━━━━━━━━━━━━━━━━━\u001b[0m\u001b[37m\u001b[0m \u001b[1m0s\u001b[0m 209ms/step - accuracy: 0.9288 - f1_score: 0.9508 - loss: 0.1758 - precision: 0.9890 - recall: 0.9156\n",
            "Epoch 18: val_loss improved from 0.13466 to 0.12080, saving model to best_transfer_model_1_finetuned.keras\n",
            "\u001b[1m131/131\u001b[0m \u001b[32m━━━━━━━━━━━━━━━━━━━━\u001b[0m\u001b[37m\u001b[0m \u001b[1m38s\u001b[0m 293ms/step - accuracy: 0.9288 - f1_score: 0.9509 - loss: 0.1758 - precision: 0.9890 - recall: 0.9156 - val_accuracy: 0.9673 - val_f1_score: 0.9777 - val_loss: 0.1208 - val_precision: 0.9907 - val_recall: 0.9651 - learning_rate: 1.0000e-05\n",
            "Epoch 19/23\n",
            "\u001b[1m131/131\u001b[0m \u001b[32m━━━━━━━━━━━━━━━━━━━━\u001b[0m\u001b[37m\u001b[0m \u001b[1m0s\u001b[0m 207ms/step - accuracy: 0.9405 - f1_score: 0.9590 - loss: 0.1488 - precision: 0.9895 - recall: 0.9304\n",
            "Epoch 19: val_loss improved from 0.12080 to 0.11056, saving model to best_transfer_model_1_finetuned.keras\n",
            "\u001b[1m131/131\u001b[0m \u001b[32m━━━━━━━━━━━━━━━━━━━━\u001b[0m\u001b[37m\u001b[0m \u001b[1m38s\u001b[0m 291ms/step - accuracy: 0.9405 - f1_score: 0.9590 - loss: 0.1488 - precision: 0.9895 - recall: 0.9303 - val_accuracy: 0.9692 - val_f1_score: 0.9791 - val_loss: 0.1106 - val_precision: 0.9907 - val_recall: 0.9677 - learning_rate: 1.0000e-05\n",
            "Epoch 20/23\n",
            "\u001b[1m131/131\u001b[0m \u001b[32m━━━━━━━━━━━━━━━━━━━━\u001b[0m\u001b[37m\u001b[0m \u001b[1m0s\u001b[0m 217ms/step - accuracy: 0.9414 - f1_score: 0.9596 - loss: 0.1479 - precision: 0.9896 - recall: 0.9313\n",
            "Epoch 20: val_loss improved from 0.11056 to 0.10577, saving model to best_transfer_model_1_finetuned.keras\n",
            "\u001b[1m131/131\u001b[0m \u001b[32m━━━━━━━━━━━━━━━━━━━━\u001b[0m\u001b[37m\u001b[0m \u001b[1m37s\u001b[0m 279ms/step - accuracy: 0.9414 - f1_score: 0.9596 - loss: 0.1479 - precision: 0.9896 - recall: 0.9313 - val_accuracy: 0.9721 - val_f1_score: 0.9810 - val_loss: 0.1058 - val_precision: 0.9921 - val_recall: 0.9702 - learning_rate: 1.0000e-05\n",
            "Epoch 21/23\n",
            "\u001b[1m131/131\u001b[0m \u001b[32m━━━━━━━━━━━━━━━━━━━━\u001b[0m\u001b[37m\u001b[0m \u001b[1m0s\u001b[0m 207ms/step - accuracy: 0.9404 - f1_score: 0.9588 - loss: 0.1408 - precision: 0.9882 - recall: 0.9313\n",
            "Epoch 21: val_loss improved from 0.10577 to 0.09986, saving model to best_transfer_model_1_finetuned.keras\n",
            "\u001b[1m131/131\u001b[0m \u001b[32m━━━━━━━━━━━━━━━━━━━━\u001b[0m\u001b[37m\u001b[0m \u001b[1m38s\u001b[0m 291ms/step - accuracy: 0.9404 - f1_score: 0.9588 - loss: 0.1408 - precision: 0.9882 - recall: 0.9313 - val_accuracy: 0.9731 - val_f1_score: 0.9817 - val_loss: 0.0999 - val_precision: 0.9908 - val_recall: 0.9728 - learning_rate: 1.0000e-05\n",
            "Epoch 22/23\n",
            "\u001b[1m131/131\u001b[0m \u001b[32m━━━━━━━━━━━━━━━━━━━━\u001b[0m\u001b[37m\u001b[0m \u001b[1m0s\u001b[0m 207ms/step - accuracy: 0.9483 - f1_score: 0.9645 - loss: 0.1397 - precision: 0.9870 - recall: 0.9431\n",
            "Epoch 22: val_loss improved from 0.09986 to 0.09851, saving model to best_transfer_model_1_finetuned.keras\n",
            "\u001b[1m131/131\u001b[0m \u001b[32m━━━━━━━━━━━━━━━━━━━━\u001b[0m\u001b[37m\u001b[0m \u001b[1m35s\u001b[0m 268ms/step - accuracy: 0.9483 - f1_score: 0.9646 - loss: 0.1397 - precision: 0.9870 - recall: 0.9431 - val_accuracy: 0.9731 - val_f1_score: 0.9817 - val_loss: 0.0985 - val_precision: 0.9921 - val_recall: 0.9715 - learning_rate: 1.0000e-05\n",
            "Epoch 23/23\n",
            "\u001b[1m131/131\u001b[0m \u001b[32m━━━━━━━━━━━━━━━━━━━━\u001b[0m\u001b[37m\u001b[0m \u001b[1m0s\u001b[0m 207ms/step - accuracy: 0.9529 - f1_score: 0.9676 - loss: 0.1245 - precision: 0.9922 - recall: 0.9442\n",
            "Epoch 23: val_loss improved from 0.09851 to 0.08937, saving model to best_transfer_model_1_finetuned.keras\n",
            "\u001b[1m131/131\u001b[0m \u001b[32m━━━━━━━━━━━━━━━━━━━━\u001b[0m\u001b[37m\u001b[0m \u001b[1m34s\u001b[0m 262ms/step - accuracy: 0.9529 - f1_score: 0.9676 - loss: 0.1245 - precision: 0.9922 - recall: 0.9442 - val_accuracy: 0.9740 - val_f1_score: 0.9824 - val_loss: 0.0894 - val_precision: 0.9908 - val_recall: 0.9741 - learning_rate: 1.0000e-05\n"
          ]
        }
      ]
    },
    {
      "cell_type": "code",
      "source": [
        "evaluate_best_model(\"transfer_model_1_finetuned\")"
      ],
      "metadata": {
        "colab": {
          "base_uri": "https://localhost:8080/"
        },
        "id": "Hm4J6p3TYDPj",
        "outputId": "6e488d13-02e3-40f0-a393-5da76e0ad90d"
      },
      "execution_count": 23,
      "outputs": [
        {
          "output_type": "stream",
          "name": "stdout",
          "text": [
            "\u001b[1m20/20\u001b[0m \u001b[32m━━━━━━━━━━━━━━━━━━━━\u001b[0m\u001b[37m\u001b[0m \u001b[1m18s\u001b[0m 365ms/step - accuracy: 0.7776 - f1_score: 0.5189 - loss: 0.5175 - precision: 0.4450 - recall: 0.6539\n",
            "Test Set Evaluation:\n",
            "Loss: 0.3387572467327118\n",
            "Accuracy: 0.8589743375778198\n",
            "Precision: 0.8254310488700867\n",
            "Recall: 0.9820512533187866\n",
            "F1-Score: 0.8969554901123047\n"
          ]
        }
      ]
    },
    {
      "metadata": {
        "id": "a4-LDoGNJV0i"
      },
      "cell_type": "markdown",
      "source": [
        "# Final Results and Conclusion\n",
        "\n",
        "\n",
        "### Definitive Model Comparison\n",
        "\n",
        "| Metric | Model_1 (CNN w/ Flatten) | Model_2 (CNN w/ GAP) | Transfer Learning Model_1 | Fine-Tuned Transfer Model |\n",
        "| :--- | :--- | :--- | :--- | :--- |\n",
        "| **Accuracy** | 87.3% | 88.1% | 84.9% | **85.9%** |\n",
        "| **Precision**| 90.2% | 89.7% | 84.1% | **82.5%** |\n",
        "| **Recall** | 89.5% | 91.5% | 93.6% | **98.2%** |\n",
        "| **F1-Score**| 89.8% | 90.6% | 88.6% | **89.7%** |\n",
        "\n",
        "\n",
        "### Conclusion\n",
        "\n",
        "Model_2 (CNN w/ Global Average Pooling) obtained the most balance performance, achieving the highest F1-score (90.6%) and accuracy (88.1%).\n",
        "\n",
        "In contrast, the Fine-Tuned Transfer Model obtained the highest recall (98.2%). This high sensitivity minimises the chance of a false negative, making it an ideal model for a screening tool, which would be used to flag potentially problematic X-ray scans for an expert to review.\n"
      ]
    }
  ]
}